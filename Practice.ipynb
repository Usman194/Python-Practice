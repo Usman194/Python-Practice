{
  "nbformat": 4,
  "nbformat_minor": 0,
  "metadata": {
    "colab": {
      "provenance": [],
      "authorship_tag": "ABX9TyPdRtV64wnBEVY8O4MVfTjF",
      "include_colab_link": true
    },
    "kernelspec": {
      "name": "python3",
      "display_name": "Python 3"
    },
    "language_info": {
      "name": "python"
    }
  },
  "cells": [
    {
      "cell_type": "markdown",
      "metadata": {
        "id": "view-in-github",
        "colab_type": "text"
      },
      "source": [
        "<a href=\"https://colab.research.google.com/github/Usman194/Python-Practice/blob/main/Practice.ipynb\" target=\"_parent\"><img src=\"https://colab.research.google.com/assets/colab-badge.svg\" alt=\"Open In Colab\"/></a>"
      ]
    },
    {
      "cell_type": "markdown",
      "source": [
        "#Practice Question"
      ],
      "metadata": {
        "id": "-MUnbiSdY_Ys"
      }
    },
    {
      "cell_type": "markdown",
      "source": [
        "1). Print Statement: Write a program that prints your name and age."
      ],
      "metadata": {
        "id": "TRnvvQSLZHFG"
      }
    },
    {
      "cell_type": "code",
      "source": [
        "name = str(input(\"Please enter your name: \"))\n",
        "age = int(input(\"Please enter your age: \"))\n",
        "print(name)\n",
        "print(age)"
      ],
      "metadata": {
        "id": "W_km3HZ1ZGJ4"
      },
      "execution_count": null,
      "outputs": []
    },
    {
      "cell_type": "markdown",
      "source": [
        "2). Write a program that prints your full name by combining first and last name from two separate variables"
      ],
      "metadata": {
        "id": "1-ULeZVbZZc2"
      }
    },
    {
      "cell_type": "code",
      "source": [
        "firstName = input(\"Please enter your FirstName: \")\n",
        "lastName = input(\"Please enter your LastName: \")\n",
        "fullName = firstName +\" \"+ lastName\n",
        "print(\"FullName: \", fullName)"
      ],
      "metadata": {
        "id": "DdZJykc9Zfpu"
      },
      "execution_count": null,
      "outputs": []
    },
    {
      "cell_type": "markdown",
      "source": [
        "3). Write a program that takes two inputs (a number and a string), converts the string to a number, and prints their sum."
      ],
      "metadata": {
        "id": "14MfheAbZjrj"
      }
    },
    {
      "cell_type": "code",
      "source": [
        "a = str(input(\"Please enter your number: \"))\n",
        "b = int(input(\"Please enter your second number: \"))\n",
        "c = int(a)\n",
        "sum = c + b\n",
        "print(\"Sum: \", sum)\n",
        "print(type(c))"
      ],
      "metadata": {
        "id": "dJSWcK-IZqUg"
      },
      "execution_count": null,
      "outputs": []
    },
    {
      "cell_type": "markdown",
      "source": [
        "4).  Write a program to create a list with integers, float numbers, and strings, then print each element’s type."
      ],
      "metadata": {
        "id": "rVco_ZXuZwSE"
      }
    },
    {
      "cell_type": "code",
      "source": [
        "list = [12, 23, 21, 345]\n",
        "listb = [\"Ali\", \"Bhai\", \"Amir\", \"Noni\"]\n",
        "listc = [12.1, 1.2, 23.2, 44.4]\n",
        "list2 = [123, \"Ali\", 'asd', 23.9, True]\n",
        "print(type(list))\n",
        "print(type(listb))\n",
        "print(type(listc))\n",
        "print(type(list2[0]))\n",
        "print(type(list2[1]))\n",
        "print(type(list2[2]))\n",
        "print(type(list2[3]))\n",
        "print(type(list2[4]))"
      ],
      "metadata": {
        "id": "S8DPMaIsZ3Dz"
      },
      "execution_count": null,
      "outputs": []
    },
    {
      "cell_type": "markdown",
      "source": [
        "5). Write a program that asks the user for their favorite color and then prints a message saying \"Your favorite color is [color].\""
      ],
      "metadata": {
        "id": "QQhD9ag_Z_7T"
      }
    },
    {
      "cell_type": "code",
      "source": [
        "color = input(\"Please enter your favoruite color: \")\n",
        "print(f\"Your favorite color is {color}.\")"
      ],
      "metadata": {
        "id": "pLijqrXSaGqh"
      },
      "execution_count": null,
      "outputs": []
    },
    {
      "cell_type": "markdown",
      "source": [
        "6).  Write a program that takes a user’s name and age and prints a sentence like: “Hello [name], you are [age] years old.”"
      ],
      "metadata": {
        "id": "TK8bN347aJ4U"
      }
    },
    {
      "cell_type": "code",
      "source": [
        "name = str(input(\"Please enter your name: \"))\n",
        "age = int(input(\"Please enter your age: \"))\n",
        "print(f\"Hello {name}, you are {age} years old.\")"
      ],
      "metadata": {
        "id": "724lSMhWaPnP"
      },
      "execution_count": null,
      "outputs": []
    },
    {
      "cell_type": "markdown",
      "source": [
        "7).  Write a program that checks if a number is even or odd."
      ],
      "metadata": {
        "id": "UmkC78lYais3"
      }
    },
    {
      "cell_type": "code",
      "source": [
        "a = int(input(\"Please enter your number: \"))\n",
        "\n",
        "if( a % 2 == 0):\n",
        "    print(\"Even\")\n",
        "else:\n",
        "    print(\"Odd\")"
      ],
      "metadata": {
        "id": "9T944MTLanoO"
      },
      "execution_count": null,
      "outputs": []
    },
    {
      "cell_type": "markdown",
      "source": [
        "8). Write a program that checks if a given year is a leap year (divisible by 4 and not divisible by 100, or divisible by 400)."
      ],
      "metadata": {
        "id": "sq2hs4SSar3T"
      }
    },
    {
      "cell_type": "code",
      "source": [
        "def is_leap_year(year):\n",
        "  if( year % 4 == 0 and year % 100 != 0 ) or ( year % 400 == 0):\n",
        "    return True\n",
        "  else:\n",
        "    return False\n",
        "\n",
        "year = int(input(\"Please enter year: \"))\n",
        "if is_leap_year(year):\n",
        "  print(f\"{year} is Leap year.\")\n",
        "else:\n",
        "  print(f\"{year} is not Leap year.\")"
      ],
      "metadata": {
        "id": "apo9PSYIayTr"
      },
      "execution_count": null,
      "outputs": []
    },
    {
      "cell_type": "markdown",
      "source": [
        "9). Print Numbers from 1 to 10: Use a for loop to print the numbers from 1 to 10."
      ],
      "metadata": {
        "id": "uESvqeA9cDPO"
      }
    },
    {
      "cell_type": "code",
      "source": [
        "for val in range(1, 11):\n",
        "  print(val)"
      ],
      "metadata": {
        "id": "bq1OTaR7cHn9"
      },
      "execution_count": null,
      "outputs": []
    },
    {
      "cell_type": "markdown",
      "source": [
        "10). Multiplication Table: Write a program that prints the multiplication table of a given number."
      ],
      "metadata": {
        "id": "TYfYbj4fcTHq"
      }
    },
    {
      "cell_type": "code",
      "source": [
        "num = int(input(\"Please enter your number: \"))\n",
        "\n",
        "for i in range(1, 11):\n",
        "  result = num * i\n",
        "  print(f\"{num} * {i} = {result}\")"
      ],
      "metadata": {
        "id": "lY7R-rR_ccFL"
      },
      "execution_count": null,
      "outputs": []
    },
    {
      "cell_type": "markdown",
      "source": [
        "11). Sum of Numbers: Write a program that calculates the sum of the first 100 numbers (1 to 100) using a loop."
      ],
      "metadata": {
        "id": "4qovP7nAgLlC"
      }
    },
    {
      "cell_type": "code",
      "source": [
        "# Initialize the sum variable\n",
        "sum_of_numbers = 0\n",
        "\n",
        "# Loop through numbers from 1 to 100\n",
        "for i in range(1, 101):\n",
        "    sum_of_numbers += i  # Add each number to the sum\n",
        "\n",
        "# Print the result\n",
        "print(\"The sum of the first 100 numbers is:\", sum_of_numbers)"
      ],
      "metadata": {
        "id": "Nn4maIu1iLmM"
      },
      "execution_count": null,
      "outputs": []
    },
    {
      "cell_type": "markdown",
      "source": [
        "12). List Operations: Write a program to create a list of fruits and print the second item."
      ],
      "metadata": {
        "id": "HAmxgoOqkbM9"
      }
    },
    {
      "cell_type": "code",
      "source": [
        "list = [\"Banana\", \"Apple\", \"Mango\", \"Pine Apple\"]\n",
        "print(list)\n",
        "print(\"Second item: \",list[1])"
      ],
      "metadata": {
        "id": "bSHbODDXkjjd"
      },
      "execution_count": null,
      "outputs": []
    },
    {
      "cell_type": "markdown",
      "source": [
        "13). Tuple Operations: Write a program that creates a tuple with three elements and prints the first and last item."
      ],
      "metadata": {
        "id": "t3fqy4k2lAm3"
      }
    },
    {
      "cell_type": "code",
      "source": [
        "tuple = (\"Shoes\", \"Pant\", \"Shirts\")\n",
        "print(tuple)\n",
        "print(\"First and last item: \", tuple[1:3])"
      ],
      "metadata": {
        "id": "cfl4kzfplC1f"
      },
      "execution_count": null,
      "outputs": []
    },
    {
      "cell_type": "markdown",
      "source": [
        "14). List Length: Write a program that asks the user for a list of numbers and prints how many numbers were entered."
      ],
      "metadata": {
        "id": "vSsnpBlTlts5"
      }
    },
    {
      "cell_type": "code",
      "source": [
        "list = input(\"Please enter your list (comma-seperated): \" )\n",
        "list_of_item = list.split()\n",
        "print(list_of_item)\n",
        "print(\"Length of Items: \", len(list_of_item))"
      ],
      "metadata": {
        "id": "C_ayeKKUl0BM"
      },
      "execution_count": null,
      "outputs": []
    },
    {
      "cell_type": "markdown",
      "source": [
        "15). Simple Function: Write a function that takes two numbers as input and returns their sum."
      ],
      "metadata": {
        "id": "3YN8Hu8rp2VQ"
      }
    },
    {
      "cell_type": "code",
      "source": [
        "def sum(a, b):\n",
        "  a = int(input(\"Please enter your first number: \"))\n",
        "  b = int(input(\"Please enter your second number: \"))\n",
        "  sum = a + b\n",
        "  return sum\n",
        "sum('a', 'b')\n"
      ],
      "metadata": {
        "id": "EBxXDUh9p-ko"
      },
      "execution_count": null,
      "outputs": []
    },
    {
      "cell_type": "markdown",
      "source": [
        "16). Return Even Numbers: Write a function that accepts a list of numbers and returns a list of only even numbers."
      ],
      "metadata": {
        "id": "J1SYbzffrCw8"
      }
    },
    {
      "cell_type": "code",
      "source": [
        "def even_numbers(list):\n",
        "  number_str = list.split(',')\n",
        "\n",
        "  even_numbers_list = [int(num) for num in number_str if int(num) % 2 == 0]\n",
        "  return even_numbers_list\n",
        "\n",
        "input_user = input(\"Please enter your numbers: \")\n",
        "result = even_numbers(input_user)\n",
        "print(result)"
      ],
      "metadata": {
        "id": "PNBOx3pVrGT-"
      },
      "execution_count": null,
      "outputs": []
    },
    {
      "cell_type": "markdown",
      "source": [
        "17). Factorial Function: Write a function to calculate the factorial of a number."
      ],
      "metadata": {
        "id": "PICgkcGp0ItK"
      }
    },
    {
      "cell_type": "code",
      "source": [
        "n = int(input(\"Please enter your numbers: \"))\n",
        "factorial = 1\n",
        "i = 1\n",
        "\n",
        "while i <= n:\n",
        "  factorial *= i\n",
        "  i += 1\n",
        "print(\"Factorial = \", factorial)"
      ],
      "metadata": {
        "id": "1jTYa0_P0L9Z"
      },
      "execution_count": null,
      "outputs": []
    },
    {
      "cell_type": "markdown",
      "source": [
        "18). Reverse a String: Write a program that takes a string and prints it in reverse."
      ],
      "metadata": {
        "id": "rezuTg7t2sZT"
      }
    },
    {
      "cell_type": "code",
      "source": [
        "t = (1, 2, 3, 4, 5)\n",
        "print(t)\n",
        "rev = tuple(reversed(t))\n",
        "print(\"Reversed: \",rev)\n",
        "\n"
      ],
      "metadata": {
        "colab": {
          "base_uri": "https://localhost:8080/"
        },
        "id": "CkEGHMEIsO6i",
        "outputId": "da15ffc9-f3bb-4633-f2a5-0e01d9e50f74"
      },
      "execution_count": null,
      "outputs": [
        {
          "output_type": "stream",
          "name": "stdout",
          "text": [
            "(1, 2, 3, 4, 5)\n",
            "Reversed:  (5, 4, 3, 2, 1)\n"
          ]
        }
      ]
    },
    {
      "cell_type": "markdown",
      "source": [
        "19). Create a program that stores the following data types in variables:\n",
        "\n",
        "An integer: 5\n",
        "A floating-point number: 3.14\n",
        "A string: \"Hello, Python\"\n",
        "A boolean: True\n",
        "Then, print the type of each variable."
      ],
      "metadata": {
        "id": "OkhRdVza09kd"
      }
    },
    {
      "cell_type": "code",
      "source": [
        "a = 12\n",
        "print(a)\n",
        "print(type(a))\n",
        "\n",
        "b = 3.14\n",
        "print(b)\n",
        "print(type(b))\n",
        "\n",
        "c = \"Hello\"\n",
        "print(c)\n",
        "print(type(c))\n",
        "\n",
        "d = True\n",
        "print(d)\n",
        "print(type(d))"
      ],
      "metadata": {
        "id": "MVE_WAR81A0T"
      },
      "execution_count": null,
      "outputs": []
    },
    {
      "cell_type": "markdown",
      "source": [
        "20). Write a program that prints all the even numbers from 1 to 20 using a for loop."
      ],
      "metadata": {
        "id": "nxteDi3215VT"
      }
    },
    {
      "cell_type": "code",
      "source": [
        "for i in range(1, 21):\n",
        "  print(i)"
      ],
      "metadata": {
        "id": "q7mAOV0l17Pc"
      },
      "execution_count": null,
      "outputs": []
    },
    {
      "cell_type": "markdown",
      "source": [
        "21). Write a Python program that creates a list of numbers [1, 2, 3, 4, 5] and adds a new number to the list. Print the updated list."
      ],
      "metadata": {
        "id": "Mcz6ujou2EWh"
      }
    },
    {
      "cell_type": "code",
      "source": [
        "list =  [1, 2, 3, 4, 5]\n",
        "list.append(6)\n",
        "print(list)"
      ],
      "metadata": {
        "colab": {
          "base_uri": "https://localhost:8080/"
        },
        "id": "uJ-7bVyA2Lwa",
        "outputId": "7e4ceb00-1650-4e6a-8d9c-ec4aea21464e"
      },
      "execution_count": null,
      "outputs": [
        {
          "output_type": "stream",
          "name": "stdout",
          "text": [
            "[1, 2, 3, 4, 5, 6]\n"
          ]
        }
      ]
    },
    {
      "cell_type": "markdown",
      "source": [
        "22). Create a function named greet that takes a name as an argument and prints \"Hello, [name]!\". Call the function with your name as the argument."
      ],
      "metadata": {
        "id": "frTBmRo14-ZJ"
      }
    },
    {
      "cell_type": "code",
      "source": [
        "def greet(name):\n",
        " print(f\"Hello, {name}!\")\n",
        "greet(\"Muhammad Usman\")"
      ],
      "metadata": {
        "id": "7SIn1SEn5BVD"
      },
      "execution_count": null,
      "outputs": []
    },
    {
      "cell_type": "markdown",
      "source": [
        "23). Write a Python program that takes a string input from the user and prints the string in uppercase and lowercase."
      ],
      "metadata": {
        "id": "aXk6rbFH6gYE"
      }
    },
    {
      "cell_type": "code",
      "source": [
        "user_input = str(input(\"Please input your string: \"))\n",
        "print(\"UpperCase: \", user_input.upper())\n",
        "print(\"LowerCase: \", user_input.lower())"
      ],
      "metadata": {
        "id": "PCv5QA1g6jQM"
      },
      "execution_count": null,
      "outputs": []
    },
    {
      "cell_type": "markdown",
      "source": [
        "24). Write a Python program that takes two numbers as input from the user and prints their sum, difference, and product.\n",
        "Example Input: 10, 5"
      ],
      "metadata": {
        "id": "wk-iIMMiNn1v"
      }
    },
    {
      "cell_type": "code",
      "source": [
        "num1 = int(input(\"Please enter your first number: \"))\n",
        "num2 = int(input(\"Please enter your first number: \"))\n",
        "sum = num1 + num2\n",
        "diff = num1 - num2\n",
        "product  = num1 * num2\n",
        "print(\"___Sum___= \", sum)\n",
        "print(\"___Difference___= \", diff)\n",
        "print(\"____Product_____= \", product)"
      ],
      "metadata": {
        "id": "uqa2R_V4Nxiv"
      },
      "execution_count": null,
      "outputs": []
    },
    {
      "cell_type": "markdown",
      "source": [
        "25). Convert the following string values into integer and float:\n",
        "x = \"20\"\n",
        "y = \"15.5\" Perform arithmetic operations on them (addition, subtraction, multiplication, division)."
      ],
      "metadata": {
        "id": "cUg50sTRPICn"
      }
    },
    {
      "cell_type": "code",
      "source": [
        "x = \"20\"\n",
        "x = int(\"20\")\n",
        "print(x)\n",
        "print(type(x))"
      ],
      "metadata": {
        "colab": {
          "base_uri": "https://localhost:8080/"
        },
        "id": "9JVjTzVqPKtr",
        "outputId": "07a4b78e-ab56-4f14-86d1-6bda3de06f60"
      },
      "execution_count": null,
      "outputs": [
        {
          "output_type": "stream",
          "name": "stdout",
          "text": [
            "20\n",
            "<class 'int'>\n"
          ]
        }
      ]
    },
    {
      "cell_type": "markdown",
      "source": [
        "Step 2:"
      ],
      "metadata": {
        "id": "88PK-XumPf_u"
      }
    },
    {
      "cell_type": "code",
      "source": [
        "x = int(\"20\")\n",
        "y = float(\"15.5\")\n",
        "y = int(y)\n",
        "Addition = x + y\n",
        "Subtraction = x - y\n",
        "Multiplication = x * y\n",
        "Division = x / y\n",
        "print(\"Addition= \", Addition)\n",
        "print(\"Subtraction= \", Subtraction)\n",
        "print(\"Multiplication= \", Multiplication)\n",
        "print(\"Division= \", Division)"
      ],
      "metadata": {
        "id": "YUbrHaTxPiqg"
      },
      "execution_count": null,
      "outputs": []
    },
    {
      "cell_type": "markdown",
      "source": [
        "26). Write a Python program that takes an integer as input from the user and checks whether the number is positive, negative, or zero."
      ],
      "metadata": {
        "id": "9uUOx3tdcBle"
      }
    },
    {
      "cell_type": "code",
      "source": [
        "user_input = int(input(\"Please enter your number: \"))\n",
        "\n",
        "if( user_input >= 0):\n",
        "  print(f\"The number {user_input} is positive.\")\n",
        "elif(user_input <= 0):\n",
        "  print(f\"The number {user_input} is negative.\")\n",
        "else:\n",
        "  print(f\"The number {user_input} zero.\")"
      ],
      "metadata": {
        "id": "MHmb86rCcFZB"
      },
      "execution_count": null,
      "outputs": []
    },
    {
      "cell_type": "markdown",
      "source": [
        "27). Write a Python program that prints the first n Fibonacci numbers. Example: If n = 5, the output should be 0 1 1 2 3."
      ],
      "metadata": {
        "id": "tkhCdgOHfILR"
      }
    },
    {
      "cell_type": "code",
      "source": [
        "def fibonacci_iterative(n):\n",
        "  a, b = 0, 1\n",
        "  for _ in range(n):\n",
        "    print(a, end=\" \")\n",
        "    a, b = b, a + b\n",
        "\n",
        "n = int(input(\"Please enter your number: \"))\n",
        "fibonacci_iterative(n)"
      ],
      "metadata": {
        "id": "6WvrrSfJfWTu"
      },
      "execution_count": null,
      "outputs": []
    },
    {
      "cell_type": "markdown",
      "source": [
        "28). Write a Python program that prints all even numbers from 1 to 50."
      ],
      "metadata": {
        "id": "sKjqJ4MAi558"
      }
    },
    {
      "cell_type": "code",
      "source": [
        "for n in range(1, 51):\n",
        "  if ( n % 2 == 0):\n",
        "    print(n, end=\",\")"
      ],
      "metadata": {
        "id": "tRTEcDj2jAP0"
      },
      "execution_count": null,
      "outputs": []
    },
    {
      "cell_type": "markdown",
      "source": [
        "29). Write a function that takes two numbers and returns their greatest common divisor (GCD)."
      ],
      "metadata": {
        "id": "STvpPW6TkPFa"
      }
    },
    {
      "cell_type": "markdown",
      "source": [
        "GCD = The Greatest Common Divisor (GCD), also known as the Highest Common Factor (HCF), is the largest number that divides two or more numbers without leaving a remainder. For example, the GCD of 12 and 18 is 6,"
      ],
      "metadata": {
        "id": "hxXB6kFUma5I"
      }
    },
    {
      "cell_type": "code",
      "source": [
        "# Function to find GCD using the Euclidean algorithm\n",
        "def gcd(a, b):\n",
        "    while b != 0:\n",
        "        a, b = b, a % b  # Replace a with b, and b with the remainder of a divided by b\n",
        "    return a\n",
        "\n",
        "# Taking two numbers as input\n",
        "a = int(input(\"Enter first number: \"))\n",
        "b = int(input(\"Enter second number: \"))\n",
        "\n",
        "# Calculate GCD\n",
        "gcd_value = gcd(a, b)\n",
        "\n",
        "# Output the result\n",
        "print(f\"The GCD of {a} and {b} is {gcd_value}\")\n"
      ],
      "metadata": {
        "id": "uG-SxPBYkQ8N"
      },
      "execution_count": null,
      "outputs": []
    },
    {
      "cell_type": "markdown",
      "source": [
        "30). Write a function that calculates the area of a circle, given its radius"
      ],
      "metadata": {
        "id": "X5pdfEL5qv8G"
      }
    },
    {
      "cell_type": "code",
      "source": [
        "def area(pi, r):\n",
        "  pi = 3.14\n",
        "  r = int(input(\"Enter your Radius: \"))\n",
        "  area = (pi) * (r*r)\n",
        "  return area\n",
        "area()\n"
      ],
      "metadata": {
        "id": "ipSDvnVTq2z0"
      },
      "execution_count": null,
      "outputs": []
    },
    {
      "cell_type": "markdown",
      "source": [
        "31). Create a list of numbers and find the sum of all even numbers in the list."
      ],
      "metadata": {
        "id": "GbOWoe9BsQRk"
      }
    },
    {
      "cell_type": "code",
      "source": [
        "list = [12, 3, 4, 5, 6, 9, 10]\n",
        "sum_of_even = 0\n",
        "for number in list:\n",
        "  if( number % 2 == 0):\n",
        "    sum_of_even += number\n",
        "print(sum_of_even)"
      ],
      "metadata": {
        "id": "iWhkCtTptH8R"
      },
      "execution_count": null,
      "outputs": []
    },
    {
      "cell_type": "markdown",
      "source": [
        "32). Write a Python program to reverse a list without using the reverse() method."
      ],
      "metadata": {
        "id": "dtwGwR2cueuu"
      }
    },
    {
      "cell_type": "markdown",
      "source": [
        "33). Create a list of random integers and remove all duplicates using a set."
      ],
      "metadata": {
        "id": "Ag5F-kVoylla"
      }
    },
    {
      "cell_type": "code",
      "source": [
        "import random\n",
        "\n",
        "# Generate a list of random integers (let's say 10 integers between 1 and 20)\n",
        "random_list = [random.randint(1, 20) for _ in range(10)]\n",
        "print(\"Original List:\", random_list)\n",
        "\n",
        "# Remove duplicates by converting the list to a set\n",
        "unique_list = set(random_list)\n",
        "print(\"List after removing duplicates:\", unique_list)"
      ],
      "metadata": {
        "id": "pib2SHC7ywjt"
      },
      "execution_count": null,
      "outputs": []
    },
    {
      "cell_type": "markdown",
      "source": [
        "34). Create a tuple with 5 elements. Write a program that finds the index of a specific element in the tuple."
      ],
      "metadata": {
        "id": "5oYjOE0q18mv"
      }
    },
    {
      "cell_type": "code",
      "source": [
        "tuple = (\"Apple\", \"Banana\", \"Mango\", \"Pine Apple\", \"Grapes\")\n",
        "print(\"Tuple: \",tuple)\n",
        "print(\"Length of Tuple: \", len(tuple))\n",
        "print(\"Index of Tuple: \", tuple[3])"
      ],
      "metadata": {
        "id": "eKGvcb391-kD"
      },
      "execution_count": null,
      "outputs": []
    },
    {
      "cell_type": "markdown",
      "source": [
        "35). Write a Python program that swaps the values of two tuples."
      ],
      "metadata": {
        "id": "nIH01eZM2vEH"
      }
    },
    {
      "cell_type": "code",
      "source": [
        "tuple1 = (1, 2, 3, 4)\n",
        "tuple2 = (4, 5, 6, 7)\n",
        "\n",
        "print(\"Original Tuple1: \", tuple1)\n",
        "print(\"Original Tuple2: \", tuple2)\n",
        "\n",
        "temp = tuple1\n",
        "tuple1 = tuple2\n",
        "tuple2 = temp\n",
        "\n",
        "print(\"After swapping Tuple1 is: \", tuple1)\n",
        "print(\"After swapping Tuple2 is: \", tuple2)"
      ],
      "metadata": {
        "id": "6FLJWoSu2wzG"
      },
      "execution_count": null,
      "outputs": []
    },
    {
      "cell_type": "markdown",
      "source": [
        "List Swapping"
      ],
      "metadata": {
        "id": "jGxVzzXJ8-Wf"
      }
    },
    {
      "cell_type": "code",
      "source": [
        "list1 = [12, 13, 14, 15]\n",
        "list2 = [16, 17, 18, 19]\n",
        "\n",
        "print(\"Original list1: \", list1)\n",
        "print(\"Original list2: \", list2)\n",
        "\n",
        "temp = list1\n",
        "list1 = list2\n",
        "list2 = temp\n",
        "print(\"_\" * 50)\n",
        "print(\"List1 after swapping elements: \", list1)\n",
        "print(\"List2 after swapping elements: \", list2)"
      ],
      "metadata": {
        "id": "vJ2RfhO29B26"
      },
      "execution_count": null,
      "outputs": []
    },
    {
      "cell_type": "markdown",
      "source": [
        "Dictionary Swapping Elements"
      ],
      "metadata": {
        "id": "WCZ-P2hC9HJk"
      }
    },
    {
      "cell_type": "code",
      "source": [
        "#Dictionary swapping\n",
        "dict1 = {\n",
        "    \"name\" : \"Muhammad Usman\",\n",
        "    \"Father's name\" : \"Muhammad Yousaf\",\n",
        "    \"age\" : 23\n",
        "}\n",
        "\n",
        "dict2 = {\n",
        "    \"name\" : \"Mubashir Hassan\",\n",
        "    \"nickName\" : \"Pasha\",\n",
        "    \"age\" : 20\n",
        "}\n",
        "print(\"*\" * 50)\n",
        "print(\"Original dict1: \", dict1)\n",
        "print(\"Original dict2: \", dict2)\n",
        "\n",
        "temp = dict1\n",
        "dict1 = dict2\n",
        "temp = dict2\n",
        "print(\"*\" * 50)\n",
        "print(\"Dict1 after swapping: \", dict1)\n",
        "print(\"Dict2 after swapping: \", dict2)"
      ],
      "metadata": {
        "id": "EDhuHwjk9LD3"
      },
      "execution_count": null,
      "outputs": []
    },
    {
      "cell_type": "markdown",
      "source": [
        "36). Write a Python program that merges two dictionaries into one."
      ],
      "metadata": {
        "id": "HPAEIk3x9iqG"
      }
    },
    {
      "cell_type": "code",
      "source": [
        "dict1 = {\n",
        "    \"name\" : \"Zulqarnain\",\n",
        "    \"nickName\" : \"Noni\"\n",
        "}\n",
        "\n",
        "dict2 = {\n",
        "    \"age\" : 14,\n",
        "    \"class\" : 8\n",
        "}\n",
        "\n",
        "merged_dict = dict1.copy()\n",
        "merged_dict.update(dict2)\n",
        "print(\"After merging Dict: \", merged_dict)\n"
      ],
      "metadata": {
        "colab": {
          "base_uri": "https://localhost:8080/"
        },
        "id": "0mT8mONJ9lWJ",
        "outputId": "f5eceedd-0555-48d0-80f3-d2d80beaa087"
      },
      "execution_count": null,
      "outputs": [
        {
          "output_type": "stream",
          "name": "stdout",
          "text": [
            "After merging Dict:  {'name': 'Zulqarnain', 'nickName': 'Noni', 'age': 14, 'class': 8}\n"
          ]
        }
      ]
    },
    {
      "cell_type": "markdown",
      "source": [
        "List Merging"
      ],
      "metadata": {
        "id": "a8NLa-hPlvKn"
      }
    },
    {
      "cell_type": "code",
      "source": [
        "list1 = [12, 11, 23]\n",
        "list2 = [24, 35 ,67]\n",
        "\n",
        "merged_list = list1.copy()\n",
        "merged_list.extend(list2)\n",
        "print(\"List after merging: \", merged_list)"
      ],
      "metadata": {
        "id": "XskPlY-xlYrt"
      },
      "execution_count": null,
      "outputs": []
    },
    {
      "cell_type": "markdown",
      "source": [
        "Tuple Merging"
      ],
      "metadata": {
        "id": "hn0ByNyFl2pz"
      }
    },
    {
      "cell_type": "code",
      "source": [
        "tuple1 = (12, 13, 14, 15)\n",
        "tuple2 = (16, 17, 18, 19)\n",
        "\n",
        "merged_tuple = tuple1 + tuple2\n",
        "print(\"Tuple after merging: \", merged_tuple)"
      ],
      "metadata": {
        "id": "xlxZocabl67O"
      },
      "execution_count": null,
      "outputs": []
    },
    {
      "cell_type": "markdown",
      "source": [
        "37). Create a dictionary with employee names and their salaries, then write a program to find the employee with the highest salary."
      ],
      "metadata": {
        "id": "z0HRsdEKnXEG"
      }
    },
    {
      "cell_type": "code",
      "source": [
        "dict = {\n",
        "    \"names\" : [\"Ali\", \"Usman\", \"Waqas\", \"Noni\", \"Hassan\"],\n",
        "    \"salaries\" : [25000, 34000, 50000, 150000]\n",
        "}\n",
        "highest_sal = dict[\"salaries\"].index(max(dict[\"salaries\"]))\n",
        "highest_sal_name = dict[\"names\"][highest_sal]\n",
        "print(\"Employee Name: \",highest_sal_name)\n",
        "print(\"Highest Salaries: \", highest_sal)"
      ],
      "metadata": {
        "id": "BXF2iM--nbgY"
      },
      "execution_count": null,
      "outputs": []
    },
    {
      "cell_type": "markdown",
      "source": [
        "38).Write a program that takes a list of numbers and prints the square of each number.\n",
        "Hint: Use a for loop to iterate through the list and use the ** operator to square numbers."
      ],
      "metadata": {
        "id": "1hH_HrDBOfae"
      }
    },
    {
      "cell_type": "code",
      "source": [
        "def print_square(numbers):\n",
        "  for number in numbers:\n",
        "    print(number ** 2)\n",
        "list_number = [2, 3, 4, 5, 6]\n",
        "print_square(list_number)\n"
      ],
      "metadata": {
        "id": "UKQsv9_IOjE8"
      },
      "execution_count": null,
      "outputs": []
    },
    {
      "cell_type": "markdown",
      "source": [
        "39). Write a program that asks the user for a number and prints its reciprocal (1 divided by the number). Use a try-except block to handle the case when the user inputs 0.\n",
        "Hint: Use try and except blocks to catch a ZeroDivisionError."
      ],
      "metadata": {
        "id": "LFWi03l3Rn01"
      }
    },
    {
      "cell_type": "code",
      "source": [
        "def reciprocal():\n",
        "  try:\n",
        "    user_input = int(input(\"Enter your number: \"))\n",
        "    result = 1 / user_input\n",
        "    print(f\"The reciprocal of {user_input} is {result}.\")\n",
        "\n",
        "  except ZeroDivisionError:\n",
        "   print(\"Error: The reciprocal of zero is undefined.\")\n",
        "  except ValueError:\n",
        "    print(\"Error: Please input a valid number.\")\n",
        "reciprocal()\n",
        "\n"
      ],
      "metadata": {
        "id": "RnOzHZzjRxnE"
      },
      "execution_count": null,
      "outputs": []
    },
    {
      "cell_type": "markdown",
      "source": [
        "40). Given the list [1, 2, 3, 4, 5, 6], print the first three elements using slicing.\n"
      ],
      "metadata": {
        "id": "NnKi3xQWWmHC"
      }
    },
    {
      "cell_type": "code",
      "source": [
        "list = [1, 2, 3, 4, 5, 6]\n",
        "print(list)\n",
        "print(\"After slicing: \", list[:3])"
      ],
      "metadata": {
        "id": "bhpeOvrNWuFK"
      },
      "execution_count": null,
      "outputs": []
    },
    {
      "cell_type": "markdown",
      "source": [
        "41). Write a program that prints numbers from 10 to 100 in increments of 10."
      ],
      "metadata": {
        "id": "-O8U4MQIXL_i"
      }
    },
    {
      "cell_type": "code",
      "source": [
        "for val in range(10, 101, 10):\n",
        "  print(val)"
      ],
      "metadata": {
        "id": "6UAQ78t9XOhj"
      },
      "execution_count": null,
      "outputs": []
    },
    {
      "cell_type": "markdown",
      "source": [
        "42). Write a program that asks the user for their name and age, and then prints \"Hello, <name>! You are <age> years old.\""
      ],
      "metadata": {
        "id": "QCii7dV-Xg4Q"
      }
    },
    {
      "cell_type": "code",
      "source": [
        "name = str(input(\"Please enter your name: \"))\n",
        "age = int(input(\"Enter your age: \"))\n",
        "print(f\"Hello {name}! You are {age} years old\")"
      ],
      "metadata": {
        "id": "P2vOu3IiXi1X"
      },
      "execution_count": null,
      "outputs": []
    },
    {
      "cell_type": "markdown",
      "source": [
        "43). Write a Python program that checks if a given string is a palindrome (the same forward and backward).\n",
        "Use string slicing string[::-1] to reverse the string."
      ],
      "metadata": {
        "id": "Cppz25P6YHmp"
      }
    },
    {
      "cell_type": "code",
      "source": [
        "list1 = [1, 2, 3, 4, 3, 2, 1]\n",
        "list2 = [0, 1, 2, 3, 4, 3, 2, 1,5]\n",
        "\n",
        "copy_list1 = list1.copy()\n",
        "copy_list1.reverse()\n",
        "if( copy_list1 == list1[::-1] ):\n",
        "  print(\"Palindrome\")\n",
        "else:\n",
        "  print(\"Not Palindrome\")"
      ],
      "metadata": {
        "colab": {
          "base_uri": "https://localhost:8080/"
        },
        "id": "ZbGeg09aYPJk",
        "outputId": "fbaa655d-975f-412b-91ad-7cb0cffe5fe8"
      },
      "execution_count": null,
      "outputs": [
        {
          "output_type": "stream",
          "name": "stdout",
          "text": [
            "Palindrome\n"
          ]
        }
      ]
    },
    {
      "cell_type": "markdown",
      "source": [
        "44). Write a program that creates a file called \"example.txt\" and writes \"Hello, World!\" into it.\n",
        "Hint: Use open() with write mode ('w')."
      ],
      "metadata": {
        "id": "ei3wvAIKxEom"
      }
    },
    {
      "cell_type": "code",
      "source": [
        "f = open(\"example.txt\", \"w\")\n",
        "f.write(\"Hello , my name is muhammad usman\")\n",
        "f.close()"
      ],
      "metadata": {
        "id": "yvtZ5hq-xGvy"
      },
      "execution_count": null,
      "outputs": []
    },
    {
      "cell_type": "markdown",
      "source": [
        "45). Write a program that creates a file called \"example.txt\" and read \"Hello, World!\" into it.\n",
        "Hint: Use open() with write mode ('r')."
      ],
      "metadata": {
        "id": "wiN17rv-zLId"
      }
    },
    {
      "cell_type": "code",
      "source": [
        "a = open(\"Example1.txt\", \"r\")\n",
        "data = a.read()\n",
        "print(data)\n",
        "print(type(data))"
      ],
      "metadata": {
        "colab": {
          "base_uri": "https://localhost:8080/"
        },
        "id": "_ioJ7OBXzTBz",
        "outputId": "c5391b03-398e-48b2-8860-4a4dd74af523"
      },
      "execution_count": null,
      "outputs": [
        {
          "output_type": "stream",
          "name": "stdout",
          "text": [
            "\"Hello, Sir\"\n",
            "<class 'str'>\n"
          ]
        }
      ]
    },
    {
      "cell_type": "markdown",
      "source": [
        "46).  Write a one-liner to create a list of squares for numbers from 1 to 10."
      ],
      "metadata": {
        "id": "9e_gb6kr0XzZ"
      }
    },
    {
      "cell_type": "code",
      "source": [
        "list = [a*a for a in range(1, 11)]\n",
        "print(\"List after squaring = \", list)"
      ],
      "metadata": {
        "colab": {
          "base_uri": "https://localhost:8080/"
        },
        "id": "LwYbkI3z0Z6L",
        "outputId": "5801cf85-fb94-414d-ca25-9eff7da75984"
      },
      "execution_count": null,
      "outputs": [
        {
          "output_type": "stream",
          "name": "stdout",
          "text": [
            "List after squaring =  [1, 4, 9, 16, 25, 36, 49, 64, 81, 100]\n"
          ]
        }
      ]
    },
    {
      "cell_type": "markdown",
      "source": [
        "47). Write a program to find the largest and smallest numbers in a list."
      ],
      "metadata": {
        "id": "o3ia1SdG37zb"
      }
    },
    {
      "cell_type": "code",
      "source": [
        "list = [1, 2, 4, 56, 66, 7]\n",
        "result = max(list)\n",
        "result1 = min(list)\n",
        "print(\"Maximum Number: \", result)\n",
        "print(\"Minimum Number: \", result1)"
      ],
      "metadata": {
        "colab": {
          "base_uri": "https://localhost:8080/"
        },
        "id": "4tOXuFEo3-E2",
        "outputId": "4c049ef7-59e7-4ebf-8698-e24dd0f082a7"
      },
      "execution_count": null,
      "outputs": [
        {
          "output_type": "stream",
          "name": "stdout",
          "text": [
            "Maximum Number:  66\n",
            "Minimum Number:  1\n"
          ]
        }
      ]
    },
    {
      "cell_type": "markdown",
      "source": [
        "48).  Write a class Car with attributes make and model, and a method display_info() that prints the make and model of the car.\n",
        "Hint: Define a class using class, and a method using def."
      ],
      "metadata": {
        "id": "PuJphnff6Cw8"
      }
    },
    {
      "cell_type": "code",
      "source": [
        "class Car:\n",
        "  def __init__(self, make, model):\n",
        "    self.make = make\n",
        "    self.model = model\n",
        "  def display_info(self):\n",
        "     print(f\"Make: {self.make}\")\n",
        "     print(f\"Model: {self.model}\")\n",
        "\n",
        "c1 = Car(\"Toyota\", \"Corola\")\n",
        "c1.display_info()"
      ],
      "metadata": {
        "colab": {
          "base_uri": "https://localhost:8080/"
        },
        "id": "lBNBUkf26KWl",
        "outputId": "feefdb74-88ff-4f0e-fe7a-010762381d57"
      },
      "execution_count": null,
      "outputs": [
        {
          "output_type": "stream",
          "name": "stdout",
          "text": [
            "Make: Toyota\n",
            "Model: Corola\n"
          ]
        }
      ]
    },
    {
      "cell_type": "markdown",
      "source": [
        "49). Write a program that prints the numbers from 1 to 30. But for multiples of 3, print \"Fizz\" instead of the number, and for multiples of 5, print \"Buzz\". For numbers which are multiples of both 3 and 5, print \"FizzBuzz\"."
      ],
      "metadata": {
        "id": "6Uf4iBFH8Z-P"
      }
    },
    {
      "cell_type": "code",
      "source": [
        "for n in range (1, 31):\n",
        "  a = 3\n",
        "  b = 5\n",
        "  if( n % a == 0 and n % b == 0):\n",
        "    print(\"FizzBuzz\")\n",
        "  elif( n % a == 0):\n",
        "    print(\"Fizz\")\n",
        "  elif( n % b == 0):\n",
        "    print(\"Buzz\")\n",
        "  else:\n",
        "    print(n)"
      ],
      "metadata": {
        "id": "c8V6U_gA8qLm"
      },
      "execution_count": null,
      "outputs": []
    }
  ]
}