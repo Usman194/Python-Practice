{
  "nbformat": 4,
  "nbformat_minor": 0,
  "metadata": {
    "colab": {
      "provenance": [],
      "authorship_tag": "ABX9TyPDqVVPTCT1dd59d8dj3VD6",
      "include_colab_link": true
    },
    "kernelspec": {
      "name": "python3",
      "display_name": "Python 3"
    },
    "language_info": {
      "name": "python"
    }
  },
  "cells": [
    {
      "cell_type": "markdown",
      "metadata": {
        "id": "view-in-github",
        "colab_type": "text"
      },
      "source": [
        "<a href=\"https://colab.research.google.com/github/Usman194/Python-Practice/blob/main/Class6Dict.ipynb\" target=\"_parent\"><img src=\"https://colab.research.google.com/assets/colab-badge.svg\" alt=\"Open In Colab\"/></a>"
      ]
    },
    {
      "cell_type": "markdown",
      "source": [
        "#Why do we need Dictionary in Python?"
      ],
      "metadata": {
        "id": "T-9vBq-n-G1l"
      }
    },
    {
      "cell_type": "code",
      "source": [
        "users = {\n",
        "    \"userName\" : \"Muhammad Usman\",\n",
        "    \"age\" : 24,\n",
        "    \"city\" : \"Lahore\"\n",
        "}\n",
        "\n",
        "print(users[\"userName\"])\n",
        "print(users[\"age\"])\n",
        "print(users[\"city\"])\n"
      ],
      "metadata": {
        "colab": {
          "base_uri": "https://localhost:8080/"
        },
        "id": "esJWEEcP-Pab",
        "outputId": "54dc2d5d-4559-4b7a-e943-ca69e164633d"
      },
      "execution_count": null,
      "outputs": [
        {
          "output_type": "stream",
          "name": "stdout",
          "text": [
            "Muhammad Usman\n",
            "24\n",
            "Lahore\n"
          ]
        }
      ]
    },
    {
      "cell_type": "markdown",
      "source": [
        "#Addition and Updating Python Dictionary"
      ],
      "metadata": {
        "id": "PuaTNv6P_IXa"
      }
    },
    {
      "cell_type": "code",
      "source": [
        "users = {\n",
        "    \"userName\" : \"Muhammad Usman\",\n",
        "    \"age\" : 24,\n",
        "    \"city\" : \"Lahore\"\n",
        "}\n",
        "\n",
        "users[\"age\"] = 32\n",
        "print(users[\"age\"])\n",
        "users[\"userName\"] = \"Yousaf\"\n",
        "print(users[\"userName\"])\n",
        "users[\"city\"] = \"Karachi\"\n",
        "print(users[\"city\"])"
      ],
      "metadata": {
        "colab": {
          "base_uri": "https://localhost:8080/"
        },
        "id": "wHqfS_Re_ZrO",
        "outputId": "29a696f4-e376-4664-cd36-e4cc968c6fbb"
      },
      "execution_count": null,
      "outputs": [
        {
          "output_type": "stream",
          "name": "stdout",
          "text": [
            "32\n",
            "Yousaf\n",
            "Karachi\n"
          ]
        }
      ]
    },
    {
      "cell_type": "markdown",
      "source": [
        "#Adding a value in our Dictionary"
      ],
      "metadata": {
        "id": "e6Hj6s0FAjNI"
      }
    },
    {
      "cell_type": "code",
      "source": [
        "users = {\n",
        "    \"userName\" : \"Muhammad Usman\",\n",
        "    \"age\" : 24,\n",
        "    \"city\" : \"Lahore\"\n",
        "}\n",
        "\n",
        "users[\"country\"] = \"Pakistan\"\n",
        "print(users)\n",
        "\n",
        "users[\"roll no\"] = 12156\n",
        "print(users)\n",
        "print(type(users))"
      ],
      "metadata": {
        "colab": {
          "base_uri": "https://localhost:8080/"
        },
        "id": "95zr2-B4AoO_",
        "outputId": "36e04592-396c-4bb9-9ade-739cee96d354"
      },
      "execution_count": null,
      "outputs": [
        {
          "output_type": "stream",
          "name": "stdout",
          "text": [
            "{'userName': 'Muhammad Usman', 'age': 24, 'city': 'Lahore', 'country': 'Pakistan'}\n",
            "{'userName': 'Muhammad Usman', 'age': 24, 'city': 'Lahore', 'country': 'Pakistan', 'roll no': 12156}\n",
            "<class 'dict'>\n"
          ]
        }
      ]
    },
    {
      "cell_type": "markdown",
      "source": [
        "#Diifference b/w List and Dictionary\n",
        "\n",
        "1.List can be used to store same data\n",
        "\n",
        "2.Dictionary can be used to store different data\n",
        "\n"
      ],
      "metadata": {
        "id": "cBHe8jVlBnVq"
      }
    },
    {
      "cell_type": "code",
      "source": [
        "users = {\n",
        "    \"userName\" : \"Muhammad\",\n",
        "    \"age\" : 27,\n",
        "    \"city\" : \"Lahore\"\n",
        "}\n",
        "print(users[\"userName\"])\n",
        "print(users['age'])\n",
        "print(users['city'])\n"
      ],
      "metadata": {
        "colab": {
          "base_uri": "https://localhost:8080/"
        },
        "id": "TqTRArjACBJf",
        "outputId": "b96fada5-1ca5-4184-9026-680ad80e7096"
      },
      "execution_count": null,
      "outputs": [
        {
          "output_type": "stream",
          "name": "stdout",
          "text": [
            "Muhammad\n",
            "27\n",
            "Lahore\n"
          ]
        }
      ]
    },
    {
      "cell_type": "markdown",
      "source": [
        "#How to use list in Dictionary"
      ],
      "metadata": {
        "id": "ibNPhbuiEVAA"
      }
    },
    {
      "cell_type": "code",
      "source": [
        "user2 = {\n",
        "    \"name\" : \"Adnan\",\n",
        "    \"roll no\" : 123,\n",
        "    \"village\" : \"Goldberg\",\n",
        "    \"list\" : [1, 3, 22, 32]\n",
        "}\n",
        "print(user2[\"name\"])\n",
        "print(user2[\"roll no\"])\n",
        "print(user2[\"village\"])\n",
        "print(type(user2))\n"
      ],
      "metadata": {
        "colab": {
          "base_uri": "https://localhost:8080/"
        },
        "id": "Zoh08SrnEa7z",
        "outputId": "cba54114-bd58-4030-faa7-1a7f6a4f8f46"
      },
      "execution_count": null,
      "outputs": [
        {
          "output_type": "stream",
          "name": "stdout",
          "text": [
            "Adnan\n",
            "123\n",
            "Goldberg\n",
            "<class 'dict'>\n"
          ]
        }
      ]
    },
    {
      "cell_type": "markdown",
      "source": [
        "#Why we use Loop?\n",
        "1.   For Loop Syntax\n",
        "*    for variable_name (range):\n",
        "*       block of code   \n",
        "2.   We use for loop with list , tuple and dictionary\n",
        "3.   When we know number of iteration we use For Loop.\n",
        "\n",
        "\n",
        "\n",
        "\n",
        "\n",
        "\n",
        "\n",
        "\n",
        "\n"
      ],
      "metadata": {
        "id": "xn59sU-cGZfW"
      }
    },
    {
      "cell_type": "code",
      "source": [
        "for i in range(1, 5):\n",
        "  print(i)"
      ],
      "metadata": {
        "colab": {
          "base_uri": "https://localhost:8080/"
        },
        "id": "RixHcVK-GdVS",
        "outputId": "91c532a6-ac3a-40b4-b178-0960246e8985"
      },
      "execution_count": null,
      "outputs": [
        {
          "output_type": "stream",
          "name": "stdout",
          "text": [
            "1\n",
            "2\n",
            "3\n",
            "4\n"
          ]
        }
      ]
    },
    {
      "cell_type": "markdown",
      "source": [
        "=>Example 2"
      ],
      "metadata": {
        "id": "2sToxVxYH33o"
      }
    },
    {
      "cell_type": "code",
      "source": [
        "students = [\"Usama\", \"Qasim\", \"Laiba\", \"Ali\", \"Noni\", \"Abdullah\", \"Rehman\", \"Usman\"]\n",
        "\n",
        "for i in students:\n",
        "  print(i)"
      ],
      "metadata": {
        "colab": {
          "base_uri": "https://localhost:8080/"
        },
        "id": "5b2kwUBKH_6s",
        "outputId": "835d42c6-916a-49bf-8de7-c8ec2e6bd0a4"
      },
      "execution_count": null,
      "outputs": [
        {
          "output_type": "stream",
          "name": "stdout",
          "text": [
            "Usama\n",
            "Qasim\n",
            "Laiba\n",
            "Ali\n",
            "Noni\n",
            "Abdullah\n",
            "Rehman\n",
            "Usman\n"
          ]
        }
      ]
    },
    {
      "cell_type": "code",
      "source": [
        "number = [1, 2, 3, 4, 5, 6, 7]\n",
        "\n",
        "for i in number:\n",
        "  print( i**2 , i ** 3)"
      ],
      "metadata": {
        "colab": {
          "base_uri": "https://localhost:8080/"
        },
        "id": "hQIZihHqdroU",
        "outputId": "d693d497-7d42-472c-82ba-4e30b52bdf24"
      },
      "execution_count": null,
      "outputs": [
        {
          "output_type": "stream",
          "name": "stdout",
          "text": [
            "Square:  1 Cube:  1\n",
            "Square:  4 Cube:  8\n",
            "Square:  9 Cube:  27\n",
            "Square:  16 Cube:  64\n",
            "Square:  25 Cube:  125\n",
            "Square:  36 Cube:  216\n",
            "Square:  49 Cube:  343\n"
          ]
        }
      ]
    },
    {
      "cell_type": "markdown",
      "source": [
        "Guessing Game"
      ],
      "metadata": {
        "id": "1wLaX_PeInKV"
      }
    },
    {
      "cell_type": "code",
      "source": [
        "correct_number = 9\n",
        "guess_number = 0\n",
        "\n",
        "while( guess_number != correct_number):\n",
        "  guess_number = int(input(\"Enter a guess number: \"))\n",
        "  print(\"Wrong, Try again Please\" if guess_number != correct_number else \"You guesses right Congratulation\")"
      ],
      "metadata": {
        "id": "gQ2s-P97ImaO"
      },
      "execution_count": null,
      "outputs": []
    },
    {
      "cell_type": "markdown",
      "source": [
        "Why do we use While loop?\n",
        "1.  When we not know number of iteration ,we use while loop with condition.\n",
        "2.   List item\n",
        "\n"
      ],
      "metadata": {
        "id": "Rv8Kk4J3azlw"
      }
    },
    {
      "cell_type": "markdown",
      "source": [],
      "metadata": {
        "id": "vswmktY5gxLH"
      }
    },
    {
      "cell_type": "code",
      "source": [
        "countdown = 10\n",
        "\n",
        "while countdown >= 1:\n",
        "  print(f\"{countdown}...\")\n",
        "  countdown -=  1\n",
        "\n",
        "print(\"****---Happy New Year---****\")"
      ],
      "metadata": {
        "colab": {
          "base_uri": "https://localhost:8080/"
        },
        "id": "lIRzTuF4bDVY",
        "outputId": "71f76c28-b861-41ae-c514-c93f38e39d50"
      },
      "execution_count": null,
      "outputs": [
        {
          "output_type": "stream",
          "name": "stdout",
          "text": [
            "10...\n",
            "9...\n",
            "8...\n",
            "7...\n",
            "6...\n",
            "5...\n",
            "4...\n",
            "3...\n",
            "2...\n",
            "1...\n",
            "****---Happy New Year---****\n"
          ]
        }
      ]
    },
    {
      "cell_type": "markdown",
      "source": [
        "#Class 7\n",
        "Why we need error Handling?"
      ],
      "metadata": {
        "id": "MC3UOb_fh5vQ"
      }
    },
    {
      "cell_type": "code",
      "source": [
        "try:\n",
        "  num = int(input(\"Please enter your number: \"))\n",
        "  result = num / 10\n",
        "  print(num)\n",
        "  print(f\"Result is : {result}\")\n",
        "except ZeroDivisionError:\n",
        "  print(\"Cannot divide by zero\")\n",
        "\n",
        "except ValueError:\n",
        "  print(\"Only number are accepted\")\n",
        "\n",
        "except Exception as e:\n",
        "  print(\"Some error Happened\")"
      ],
      "metadata": {
        "colab": {
          "base_uri": "https://localhost:8080/"
        },
        "id": "YWkkNb-TiBY4",
        "outputId": "cfafc93e-2a50-41ea-88e9-47e1cfc689db"
      },
      "execution_count": null,
      "outputs": [
        {
          "output_type": "stream",
          "name": "stdout",
          "text": [
            "Please enter your number: 0\n",
            "Cannot divide by zero\n"
          ]
        }
      ]
    },
    {
      "cell_type": "code",
      "source": [
        "try:\n",
        "  print(10 / 0)\n",
        "\n",
        "except ZeroDivisionError:\n",
        "  print(\"Cannot divide by zero\")"
      ],
      "metadata": {
        "colab": {
          "base_uri": "https://localhost:8080/"
        },
        "id": "FPb6W_Y_pWVy",
        "outputId": "d042077c-02f5-4226-fce8-146f930a28ae"
      },
      "execution_count": null,
      "outputs": [
        {
          "output_type": "stream",
          "name": "stdout",
          "text": [
            "Cannot divide by zero\n"
          ]
        }
      ]
    },
    {
      "cell_type": "markdown",
      "source": [
        "#Module in Python"
      ],
      "metadata": {
        "id": "wHuZw8ZYsyr6"
      }
    },
    {
      "cell_type": "code",
      "source": [
        "import math\n",
        "\n",
        "radius = 7\n",
        "area = math.pi * ( radius ** 2)\n",
        "print(\"Area of a circle: \", area)\n",
        "print(f\"Area of a circle: {area}\")"
      ],
      "metadata": {
        "colab": {
          "base_uri": "https://localhost:8080/"
        },
        "id": "VzB_Qx6Jvil4",
        "outputId": "2e4dcb60-f4da-4700-a792-5db3e81c9339"
      },
      "execution_count": null,
      "outputs": [
        {
          "output_type": "stream",
          "name": "stdout",
          "text": [
            "Area of a circle:  153.93804002589985\n",
            "Area of a circle: 153.93804002589985\n"
          ]
        }
      ]
    },
    {
      "cell_type": "code",
      "source": [
        "import Average\n",
        "\n",
        "print(Average.val1)\n",
        "\n"
      ],
      "metadata": {
        "colab": {
          "base_uri": "https://localhost:8080/"
        },
        "id": "skLrkEh6yFsX",
        "outputId": "b6dad220-2fb4-45f4-80be-1c3eed7d3ba5"
      },
      "execution_count": null,
      "outputs": [
        {
          "output_type": "stream",
          "name": "stdout",
          "text": [
            "23.0\n"
          ]
        }
      ]
    },
    {
      "cell_type": "markdown",
      "source": [
        "#00_Joke_bot.md Project\n",
        "Write a simple joke bot. The bot starts by asking the user what they want. However, your program will only respond to one response: Joke.\n",
        "\n",
        "If the user enters Joke then we will print out a single joke. Each time the joke is always the same:\n",
        "\n",
        "Here is a joke for you! Panaversity GPT - Sophia is heading out to the grocery store. A programmer tells her: get a liter of milk, and if they have eggs, get 12. Sophia returns with 13 liters of milk. The programmer asks why and Sophia replies: 'because they had eggs'\n",
        "\n",
        "If the user enters anything else we print out:\n",
        "\n",
        "Sorry I only tell jokes\n",
        "\n",
        "You should use the three constants:\n",
        "\n",
        "PROMPT JOKE SORRY   \n",
        "\n"
      ],
      "metadata": {
        "id": "Q5E4ldWtc0VN"
      }
    },
    {
      "cell_type": "code",
      "source": [
        "Joke = \"Here is a joke for you! Panaversity GPT - Sophia is heading out to the grocery store. A programmer tells her: get a liter of milk, and if they have eggs, get 12. Sophia returns with 13 liters of milk. The programmer asks why and Sophia replies: 'because they had eggs'\"\n",
        "Sorry = \"Sorry I tell jokes!\"\n",
        "def bot():\n",
        "  user_input = input(\"What you want: \")\n",
        "  if \"joke\" in user_input:\n",
        "    print(Joke)\n",
        "\n",
        "  else:\n",
        "    print(Sorry)\n",
        "bot()"
      ],
      "metadata": {
        "colab": {
          "base_uri": "https://localhost:8080/"
        },
        "id": "UTEGLmX1dDCL",
        "outputId": "fb019519-2931-432f-e009-8931cf516277"
      },
      "execution_count": null,
      "outputs": [
        {
          "output_type": "stream",
          "name": "stdout",
          "text": [
            "What you want: what is your name\n",
            "Sorry I tell jokes!\n"
          ]
        }
      ]
    },
    {
      "cell_type": "markdown",
      "source": [
        "#01_double_it.md\n",
        "Problem Statement\n",
        "Write a program that asks a user to enter a number. Your program will then double that number and print out the result. It will repeat that process until the value is 100 or greater.\n",
        "\n",
        "For example if the user enters the number 2 you would then print:\n",
        "\n",
        "4 8 16 32 64 128\n",
        "\n",
        "Note that:\n",
        "\n",
        "2 doubled is 4\n",
        "\n",
        "4 doubled is 8\n",
        "\n",
        "8 doubled is 16\n",
        "\n",
        "and so on.\n",
        "\n",
        "We stop at 128 because that value is greater than 100.\n",
        "\n",
        "Maintain the current number in a variable named curr_value. When you double the number, you should be updating curr_value. Recall that you can double the value of curr_value using a line like:\n",
        "\n",
        "curr_value = curr_value * 2\n",
        "\n",
        "This program should have a while loop and the while loop condition should test if curr_value is less than 100. Thus, your program will have the line:\n",
        "\n",
        "while curr_value < 100:"
      ],
      "metadata": {
        "id": "HYZq_Eeighdq"
      }
    },
    {
      "cell_type": "code",
      "source": [
        "number = int(input(\"Enter a number: \"))\n",
        "\n",
        "while number < 100:\n",
        "  number = number * 2\n",
        "  print(number)\n"
      ],
      "metadata": {
        "colab": {
          "base_uri": "https://localhost:8080/"
        },
        "id": "O39qFgzqgsCY",
        "outputId": "a35a5708-ac7a-45dd-9f4c-a4f58b2c508f"
      },
      "execution_count": null,
      "outputs": [
        {
          "output_type": "stream",
          "name": "stdout",
          "text": [
            "Enter a number: 3\n",
            "6\n",
            "12\n",
            "24\n",
            "48\n",
            "96\n",
            "192\n"
          ]
        }
      ]
    }
  ]
}