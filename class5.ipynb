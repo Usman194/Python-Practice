{
  "nbformat": 4,
  "nbformat_minor": 0,
  "metadata": {
    "colab": {
      "provenance": [],
      "authorship_tag": "ABX9TyO9lmWFORyPdPmrEoB4CwXB",
      "include_colab_link": true
    },
    "kernelspec": {
      "name": "python3",
      "display_name": "Python 3"
    },
    "language_info": {
      "name": "python"
    }
  },
  "cells": [
    {
      "cell_type": "markdown",
      "metadata": {
        "id": "view-in-github",
        "colab_type": "text"
      },
      "source": [
        "<a href=\"https://colab.research.google.com/github/Usman194/Python-Practice/blob/main/class5.ipynb\" target=\"_parent\"><img src=\"https://colab.research.google.com/assets/colab-badge.svg\" alt=\"Open In Colab\"/></a>"
      ]
    },
    {
      "cell_type": "markdown",
      "source": [],
      "metadata": {
        "id": "MS1fpNoSwkvT"
      }
    },
    {
      "cell_type": "code",
      "execution_count": null,
      "metadata": {
        "colab": {
          "base_uri": "https://localhost:8080/"
        },
        "id": "n0GdMTw0vXS1",
        "outputId": "787f1c58-e354-4887-e9d9-52194ec7e921"
      },
      "outputs": [
        {
          "output_type": "stream",
          "name": "stdout",
          "text": [
            "Muhammad Usman\n"
          ]
        }
      ],
      "source": [
        "print(\"Muhammad Usman\")"
      ]
    },
    {
      "cell_type": "code",
      "source": [
        "a1 = \"Zafar abbas\"\n",
        "a2 = \"cricket\"\n",
        "a3 = \"biryani\"\n",
        "print(a1)\n",
        "print(a2)\n",
        "print(a3)"
      ],
      "metadata": {
        "colab": {
          "base_uri": "https://localhost:8080/"
        },
        "id": "ldR2vPe1zP1N",
        "outputId": "3eb56b8c-6177-4ae0-cc88-4adee100d628"
      },
      "execution_count": null,
      "outputs": [
        {
          "output_type": "stream",
          "name": "stdout",
          "text": [
            "Zafar abbas\n",
            "cricket\n",
            "biryani\n"
          ]
        }
      ]
    },
    {
      "cell_type": "code",
      "source": [
        "sentence = \"My name is\"\n",
        "name = \"Muhammad Usman\"\n",
        "print(sentence + \" \" + name)"
      ],
      "metadata": {
        "colab": {
          "base_uri": "https://localhost:8080/"
        },
        "id": "oITU1T19FkkR",
        "outputId": "b15ad1b3-af00-4351-e518-c9a52734ad8e"
      },
      "execution_count": null,
      "outputs": [
        {
          "output_type": "stream",
          "name": "stdout",
          "text": [
            "My name is Muhammad Usman\n"
          ]
        }
      ]
    },
    {
      "cell_type": "code",
      "source": [
        "faculty_member = 12\n",
        "adm_staff = 4\n",
        "std = 100\n",
        "absent = 15\n",
        "\n",
        "total_member = faculty_member + adm_staff + std - absent\n",
        "#absent_people = total_member - absent\n",
        "total_amnt_rbri  = total_member * 250\n",
        "print(f\"Total members presnet : {total_member}\")\n",
        "print(f\"Total amount of rabri: {total_amnt_rbri} g\")\n",
        "print(f\"Total amount of rabri in kg: {total_amnt_rbri//1000}kg\") #Ignore after . point values => //"
      ],
      "metadata": {
        "colab": {
          "base_uri": "https://localhost:8080/"
        },
        "id": "JfAkX9heLWjV",
        "outputId": "fa129ea5-1f6c-4443-f105-7b135bd1bb5e"
      },
      "execution_count": null,
      "outputs": [
        {
          "output_type": "stream",
          "name": "stdout",
          "text": [
            "Total members presnet : 101\n",
            "Total amount of rabri: 25250 g\n",
            "Total amount of rabri in kg: 25kg\n"
          ]
        }
      ]
    },
    {
      "cell_type": "code",
      "source": [
        "print(f\"My name is\", name)\n",
        "print(f\"My name is {name}\")"
      ],
      "metadata": {
        "colab": {
          "base_uri": "https://localhost:8080/"
        },
        "id": "Z2RSzzL_H8y3",
        "outputId": "596f42cc-ae4e-4d6c-b81e-d41d6033f4e9"
      },
      "execution_count": null,
      "outputs": [
        {
          "output_type": "stream",
          "name": "stdout",
          "text": [
            "My name is Muhammad Usman\n",
            "My name is Muhammad Usman\n"
          ]
        }
      ]
    },
    {
      "cell_type": "code",
      "source": [
        "name = \"Mhammad Usman\"\n",
        "paraagraph = \"\"\"You got a free coupon code\n",
        "Best regards\"\"\"\n",
        "print(f\"Hi, {name}\")\n",
        "print(paraagraph +\" \" +name) #This is called Dock string"
      ],
      "metadata": {
        "colab": {
          "base_uri": "https://localhost:8080/"
        },
        "id": "x4e4vonhLb2F",
        "outputId": "5e37ae2d-3197-4799-e9b5-ac3d47c6b3e8"
      },
      "execution_count": null,
      "outputs": [
        {
          "output_type": "stream",
          "name": "stdout",
          "text": [
            "Hi, Mhammad Usman\n",
            "You got a free coupon code\n",
            "Best regards Mhammad Usman\n"
          ]
        }
      ]
    },
    {
      "cell_type": "code",
      "source": [
        "is_online = True\n",
        "is_male = False\n",
        "print(is_online)\n",
        "print(is_male)"
      ],
      "metadata": {
        "colab": {
          "base_uri": "https://localhost:8080/"
        },
        "id": "ZMdCNrHHkVj3",
        "outputId": "6a31ab71-dc7c-42a3-c65b-5d3660189cb9"
      },
      "execution_count": null,
      "outputs": [
        {
          "output_type": "stream",
          "name": "stdout",
          "text": [
            "True\n",
            "False\n"
          ]
        }
      ]
    },
    {
      "cell_type": "code",
      "source": [
        "a = 20\n",
        "b = 21\n",
        "\n",
        "print(a > b)"
      ],
      "metadata": {
        "colab": {
          "base_uri": "https://localhost:8080/"
        },
        "id": "Vy9Kn6wKknDn",
        "outputId": "9dc9a9b6-72a4-4102-9a45-20b6a0cecf30"
      },
      "execution_count": null,
      "outputs": [
        {
          "output_type": "stream",
          "name": "stdout",
          "text": [
            "False\n"
          ]
        }
      ]
    },
    {
      "cell_type": "code",
      "source": [
        "name = input(\"What is your name? \")\n",
        "print(\"Hi, \" + name + \"!\")"
      ],
      "metadata": {
        "colab": {
          "base_uri": "https://localhost:8080/"
        },
        "id": "ZXWhs7DnR3D5",
        "outputId": "f9b4470d-ab6c-4eab-98bd-2bafdf319328"
      },
      "execution_count": null,
      "outputs": [
        {
          "output_type": "stream",
          "name": "stdout",
          "text": [
            "What is your name? Muhammad Usman\n",
            "Hi, Muhammad Usman!\n"
          ]
        }
      ]
    },
    {
      "cell_type": "code",
      "source": [
        "age = int(input(\"What's your age: \"))\n",
        "weight = int(input(\"Enter your weight: \"))\n",
        "if( age < 18 ):\n",
        "  print(\"You are minor\")\n",
        "elif( age == 18 and weight <= 80 ):\n",
        "  print(\"You are young\")\n",
        "elif( age == 50 and weight <= 80 ):\n",
        "  print(\"You are old person\")\n",
        "else:\n",
        "  print(\"You are very old men\")"
      ],
      "metadata": {
        "colab": {
          "base_uri": "https://localhost:8080/"
        },
        "id": "qzXdyiZfTTfn",
        "outputId": "5713a3ee-d529-4b15-967a-cd4b512b30ef"
      },
      "execution_count": null,
      "outputs": [
        {
          "output_type": "stream",
          "name": "stdout",
          "text": [
            "What's your age: 50\n",
            "Enter your weight: 80\n",
            "You are old person\n"
          ]
        }
      ]
    },
    {
      "cell_type": "code",
      "source": [
        "first_name = \"Ali\"\n",
        "print(f\"\"\"\n",
        "Hi, {first_name}\n",
        "You got a free coupon code: Happy2222\n",
        "Best regards,\n",
        "{first_name}\"\"\")"
      ],
      "metadata": {
        "colab": {
          "base_uri": "https://localhost:8080/"
        },
        "id": "B4oLb0J_OwJw",
        "outputId": "1719843e-48f3-4a88-8434-a708318bfdd2"
      },
      "execution_count": null,
      "outputs": [
        {
          "output_type": "stream",
          "name": "stdout",
          "text": [
            "\n",
            "Hi, Ali\n",
            "You got a free coupon code: Happy2222\n",
            "Best regards,\n",
            "Ali\n"
          ]
        }
      ]
    },
    {
      "cell_type": "code",
      "source": [
        "a = 3\n",
        "b = 2\n",
        "\n",
        "power = a ** b\n",
        "print(\"Power:\", power)"
      ],
      "metadata": {
        "colab": {
          "base_uri": "https://localhost:8080/"
        },
        "id": "IP9IJmmhPZDu",
        "outputId": "d5f11788-0e7a-45cb-fc72-bbe7c6908c1a"
      },
      "execution_count": null,
      "outputs": [
        {
          "output_type": "stream",
          "name": "stdout",
          "text": [
            "Power: 9\n"
          ]
        }
      ]
    },
    {
      "cell_type": "code",
      "source": [
        "paragraph = \"\"\"My name is Muhammad Usman\n",
        "I am a developer\n",
        "How to print it?\"\"\"\n",
        "print(paragraph)"
      ],
      "metadata": {
        "colab": {
          "base_uri": "https://localhost:8080/"
        },
        "id": "dr2XeOmIKbsK",
        "outputId": "a0daa7f7-9cce-4342-a484-00d9b0a01a20"
      },
      "execution_count": null,
      "outputs": [
        {
          "output_type": "stream",
          "name": "stdout",
          "text": [
            "My name is Muhammad Usman\n",
            "I am a developer\n",
            "How to print it?\n"
          ]
        }
      ]
    },
    {
      "cell_type": "markdown",
      "source": [
        "To print multiline we use \"\"\" \"\"\" triple quatation."
      ],
      "metadata": {
        "id": "i1hYDJsZLJYC"
      }
    }
  ]
}