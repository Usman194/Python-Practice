{
  "nbformat": 4,
  "nbformat_minor": 0,
  "metadata": {
    "colab": {
      "provenance": [],
      "authorship_tag": "ABX9TyPKqzgnn9Ls6vPCwru6X75k",
      "include_colab_link": true
    },
    "kernelspec": {
      "name": "python3",
      "display_name": "Python 3"
    },
    "language_info": {
      "name": "python"
    }
  },
  "cells": [
    {
      "cell_type": "markdown",
      "metadata": {
        "id": "view-in-github",
        "colab_type": "text"
      },
      "source": [
        "<a href=\"https://colab.research.google.com/github/Usman194/Python-Practice/blob/main/Class8FileHandling.ipynb\" target=\"_parent\"><img src=\"https://colab.research.google.com/assets/colab-badge.svg\" alt=\"Open In Colab\"/></a>"
      ]
    },
    {
      "cell_type": "markdown",
      "source": [
        "#File Handling"
      ],
      "metadata": {
        "id": "6YDFGhpWvsny"
      }
    },
    {
      "cell_type": "code",
      "source": [
        "file = open(\"Usman.txt\", \"w+\")\n",
        "file.write(\"Hello Mr Usman,\\nmy father name is Muhammad Yousaf\")\n",
        "file.seek(5)\n",
        "line = file.read()\n",
        "print(\"Line 1: \", line)\n",
        "file.close()"
      ],
      "metadata": {
        "colab": {
          "base_uri": "https://localhost:8080/"
        },
        "id": "k2ahnEggvxtR",
        "outputId": "d8a8beed-cdba-402b-f22a-328d8ad2962f"
      },
      "execution_count": null,
      "outputs": [
        {
          "output_type": "stream",
          "name": "stdout",
          "text": [
            "Line 1:   Mr Usman,\n",
            "my father name is Muhammad Yousaf\n"
          ]
        }
      ]
    },
    {
      "cell_type": "code",
      "source": [
        "with open(\"Usman.txt\", \"a+\") as newfile:\n",
        "       newfile.write(\"Hello Everyone\")\n",
        "       newfile.seek(0)\n",
        "       print(newfile.read())"
      ],
      "metadata": {
        "colab": {
          "base_uri": "https://localhost:8080/"
        },
        "id": "aKfjLvE4zUB0",
        "outputId": "9db1de9d-5687-46fe-bd13-9cc98dfaf7d4"
      },
      "execution_count": null,
      "outputs": [
        {
          "output_type": "stream",
          "name": "stdout",
          "text": [
            "Hello WorldHello Everyone\n"
          ]
        }
      ]
    },
    {
      "cell_type": "markdown",
      "source": [
        "File Upload"
      ],
      "metadata": {
        "id": "72Q0RPS9-pWf"
      }
    },
    {
      "cell_type": "code",
      "source": [
        "from google.colab import files\n",
        "\n",
        "uploaded = files.upload()\n"
      ],
      "metadata": {
        "colab": {
          "base_uri": "https://localhost:8080/",
          "height": 73
        },
        "id": "KnXbGs04-sL3",
        "outputId": "905ef322-c42f-48cc-b636-0a453c7a4e0a"
      },
      "execution_count": null,
      "outputs": [
        {
          "output_type": "display_data",
          "data": {
            "text/plain": [
              "<IPython.core.display.HTML object>"
            ],
            "text/html": [
              "\n",
              "     <input type=\"file\" id=\"files-a96b3010-bd3f-46b4-b153-61cc71ef15fe\" name=\"files[]\" multiple disabled\n",
              "        style=\"border:none\" />\n",
              "     <output id=\"result-a96b3010-bd3f-46b4-b153-61cc71ef15fe\">\n",
              "      Upload widget is only available when the cell has been executed in the\n",
              "      current browser session. Please rerun this cell to enable.\n",
              "      </output>\n",
              "      <script>// Copyright 2017 Google LLC\n",
              "//\n",
              "// Licensed under the Apache License, Version 2.0 (the \"License\");\n",
              "// you may not use this file except in compliance with the License.\n",
              "// You may obtain a copy of the License at\n",
              "//\n",
              "//      http://www.apache.org/licenses/LICENSE-2.0\n",
              "//\n",
              "// Unless required by applicable law or agreed to in writing, software\n",
              "// distributed under the License is distributed on an \"AS IS\" BASIS,\n",
              "// WITHOUT WARRANTIES OR CONDITIONS OF ANY KIND, either express or implied.\n",
              "// See the License for the specific language governing permissions and\n",
              "// limitations under the License.\n",
              "\n",
              "/**\n",
              " * @fileoverview Helpers for google.colab Python module.\n",
              " */\n",
              "(function(scope) {\n",
              "function span(text, styleAttributes = {}) {\n",
              "  const element = document.createElement('span');\n",
              "  element.textContent = text;\n",
              "  for (const key of Object.keys(styleAttributes)) {\n",
              "    element.style[key] = styleAttributes[key];\n",
              "  }\n",
              "  return element;\n",
              "}\n",
              "\n",
              "// Max number of bytes which will be uploaded at a time.\n",
              "const MAX_PAYLOAD_SIZE = 100 * 1024;\n",
              "\n",
              "function _uploadFiles(inputId, outputId) {\n",
              "  const steps = uploadFilesStep(inputId, outputId);\n",
              "  const outputElement = document.getElementById(outputId);\n",
              "  // Cache steps on the outputElement to make it available for the next call\n",
              "  // to uploadFilesContinue from Python.\n",
              "  outputElement.steps = steps;\n",
              "\n",
              "  return _uploadFilesContinue(outputId);\n",
              "}\n",
              "\n",
              "// This is roughly an async generator (not supported in the browser yet),\n",
              "// where there are multiple asynchronous steps and the Python side is going\n",
              "// to poll for completion of each step.\n",
              "// This uses a Promise to block the python side on completion of each step,\n",
              "// then passes the result of the previous step as the input to the next step.\n",
              "function _uploadFilesContinue(outputId) {\n",
              "  const outputElement = document.getElementById(outputId);\n",
              "  const steps = outputElement.steps;\n",
              "\n",
              "  const next = steps.next(outputElement.lastPromiseValue);\n",
              "  return Promise.resolve(next.value.promise).then((value) => {\n",
              "    // Cache the last promise value to make it available to the next\n",
              "    // step of the generator.\n",
              "    outputElement.lastPromiseValue = value;\n",
              "    return next.value.response;\n",
              "  });\n",
              "}\n",
              "\n",
              "/**\n",
              " * Generator function which is called between each async step of the upload\n",
              " * process.\n",
              " * @param {string} inputId Element ID of the input file picker element.\n",
              " * @param {string} outputId Element ID of the output display.\n",
              " * @return {!Iterable<!Object>} Iterable of next steps.\n",
              " */\n",
              "function* uploadFilesStep(inputId, outputId) {\n",
              "  const inputElement = document.getElementById(inputId);\n",
              "  inputElement.disabled = false;\n",
              "\n",
              "  const outputElement = document.getElementById(outputId);\n",
              "  outputElement.innerHTML = '';\n",
              "\n",
              "  const pickedPromise = new Promise((resolve) => {\n",
              "    inputElement.addEventListener('change', (e) => {\n",
              "      resolve(e.target.files);\n",
              "    });\n",
              "  });\n",
              "\n",
              "  const cancel = document.createElement('button');\n",
              "  inputElement.parentElement.appendChild(cancel);\n",
              "  cancel.textContent = 'Cancel upload';\n",
              "  const cancelPromise = new Promise((resolve) => {\n",
              "    cancel.onclick = () => {\n",
              "      resolve(null);\n",
              "    };\n",
              "  });\n",
              "\n",
              "  // Wait for the user to pick the files.\n",
              "  const files = yield {\n",
              "    promise: Promise.race([pickedPromise, cancelPromise]),\n",
              "    response: {\n",
              "      action: 'starting',\n",
              "    }\n",
              "  };\n",
              "\n",
              "  cancel.remove();\n",
              "\n",
              "  // Disable the input element since further picks are not allowed.\n",
              "  inputElement.disabled = true;\n",
              "\n",
              "  if (!files) {\n",
              "    return {\n",
              "      response: {\n",
              "        action: 'complete',\n",
              "      }\n",
              "    };\n",
              "  }\n",
              "\n",
              "  for (const file of files) {\n",
              "    const li = document.createElement('li');\n",
              "    li.append(span(file.name, {fontWeight: 'bold'}));\n",
              "    li.append(span(\n",
              "        `(${file.type || 'n/a'}) - ${file.size} bytes, ` +\n",
              "        `last modified: ${\n",
              "            file.lastModifiedDate ? file.lastModifiedDate.toLocaleDateString() :\n",
              "                                    'n/a'} - `));\n",
              "    const percent = span('0% done');\n",
              "    li.appendChild(percent);\n",
              "\n",
              "    outputElement.appendChild(li);\n",
              "\n",
              "    const fileDataPromise = new Promise((resolve) => {\n",
              "      const reader = new FileReader();\n",
              "      reader.onload = (e) => {\n",
              "        resolve(e.target.result);\n",
              "      };\n",
              "      reader.readAsArrayBuffer(file);\n",
              "    });\n",
              "    // Wait for the data to be ready.\n",
              "    let fileData = yield {\n",
              "      promise: fileDataPromise,\n",
              "      response: {\n",
              "        action: 'continue',\n",
              "      }\n",
              "    };\n",
              "\n",
              "    // Use a chunked sending to avoid message size limits. See b/62115660.\n",
              "    let position = 0;\n",
              "    do {\n",
              "      const length = Math.min(fileData.byteLength - position, MAX_PAYLOAD_SIZE);\n",
              "      const chunk = new Uint8Array(fileData, position, length);\n",
              "      position += length;\n",
              "\n",
              "      const base64 = btoa(String.fromCharCode.apply(null, chunk));\n",
              "      yield {\n",
              "        response: {\n",
              "          action: 'append',\n",
              "          file: file.name,\n",
              "          data: base64,\n",
              "        },\n",
              "      };\n",
              "\n",
              "      let percentDone = fileData.byteLength === 0 ?\n",
              "          100 :\n",
              "          Math.round((position / fileData.byteLength) * 100);\n",
              "      percent.textContent = `${percentDone}% done`;\n",
              "\n",
              "    } while (position < fileData.byteLength);\n",
              "  }\n",
              "\n",
              "  // All done.\n",
              "  yield {\n",
              "    response: {\n",
              "      action: 'complete',\n",
              "    }\n",
              "  };\n",
              "}\n",
              "\n",
              "scope.google = scope.google || {};\n",
              "scope.google.colab = scope.google.colab || {};\n",
              "scope.google.colab._files = {\n",
              "  _uploadFiles,\n",
              "  _uploadFilesContinue,\n",
              "};\n",
              "})(self);\n",
              "</script> "
            ]
          },
          "metadata": {}
        },
        {
          "output_type": "stream",
          "name": "stdout",
          "text": [
            "Saving dict.py to dict.py\n"
          ]
        }
      ]
    },
    {
      "cell_type": "markdown",
      "source": [
        "Generate code from AI"
      ],
      "metadata": {
        "id": "-CsCj7S9A5g8"
      }
    },
    {
      "cell_type": "code",
      "source": [
        "# prompt: create a csv files with three columns name, number and address with python\n",
        "\n",
        "import csv\n",
        "\n",
        "# Data to be written to the CSV file\n",
        "data = [\n",
        "    {'name': 'Ali', 'number': '123-456-7890', 'address': '123 Main St'},\n",
        "    {'name': 'Usman', 'number': '987-654-3210', 'address': '456 Oak Ave'},\n",
        "    {'name': 'Charlie', 'number': '555-123-4567', 'address': '789 Pine Ln'}\n",
        "]\n",
        "\n",
        "# Specify the file name\n",
        "csv_file_name = 'contacts.csv'\n",
        "\n",
        "# Write data to CSV file\n",
        "try:\n",
        "    with open(csv_file_name, 'w', newline='') as csvfile:\n",
        "        fieldnames = ['name', 'number', 'address']\n",
        "        writer = csv.DictWriter(csvfile, fieldnames=fieldnames)\n",
        "        writer.writeheader()\n",
        "        writer.writerows(data)\n",
        "    print(f\"CSV file '{csv_file_name}' created successfully.\")\n",
        "\n",
        "except Exception as e:\n",
        "    print(f\"An error occurred: {e}\")\n"
      ],
      "metadata": {
        "colab": {
          "base_uri": "https://localhost:8080/"
        },
        "id": "vBdDebLFA9Wx",
        "outputId": "a11829be-9718-4cd8-8843-c92604900c51"
      },
      "execution_count": null,
      "outputs": [
        {
          "output_type": "stream",
          "name": "stdout",
          "text": [
            "CSV file 'contacts.csv' created successfully.\n"
          ]
        }
      ]
    },
    {
      "cell_type": "markdown",
      "source": [
        "Example2"
      ],
      "metadata": {
        "id": "-9kqm74mB8qq"
      }
    },
    {
      "cell_type": "code",
      "source": [
        "# prompt: create an admit card for an institute PIAIC, with field name, roll no and name  and some more details\n",
        "\n",
        "from google.colab import files\n",
        "import csv\n",
        "\n",
        "# Data for admit cards\n",
        "admit_card_data = [\n",
        "    {'name': 'Ali', 'roll_no': 'PIAIC12345', 'center': 'Lahore'},\n",
        "    {'name': 'Usman', 'roll_no': 'PIAIC67890', 'center': 'Karachi'},\n",
        "    {'name': 'Charlie', 'roll_no': 'PIAIC13579', 'center': 'Islamabad'}\n",
        "]\n",
        "\n",
        "# Specify the file name\n",
        "csv_file_name = 'admit_cards.csv'\n",
        "\n",
        "# Write data to CSV file\n",
        "try:\n",
        "    with open(csv_file_name, 'w', newline='') as csvfile:\n",
        "        fieldnames = ['name', 'roll_no', 'center']  # Define the fields for the admit card\n",
        "        writer = csv.DictWriter(csvfile, fieldnames=fieldnames)\n",
        "        writer.writeheader()\n",
        "        writer.writerows(admit_card_data)\n",
        "    print(f\"CSV file '{csv_file_name}' created successfully.\")\n",
        "    files.download(csv_file_name) # Download the file\n",
        "\n",
        "except Exception as e:\n",
        "    print(f\"An error occurred: {e}\")\n"
      ],
      "metadata": {
        "colab": {
          "base_uri": "https://localhost:8080/",
          "height": 35
        },
        "id": "gTdfYCyJB-eE",
        "outputId": "01fdc591-8575-42da-ed24-7b9143fe0256"
      },
      "execution_count": null,
      "outputs": [
        {
          "output_type": "stream",
          "name": "stdout",
          "text": [
            "CSV file 'admit_cards.csv' created successfully.\n"
          ]
        },
        {
          "output_type": "display_data",
          "data": {
            "text/plain": [
              "<IPython.core.display.Javascript object>"
            ],
            "application/javascript": [
              "\n",
              "    async function download(id, filename, size) {\n",
              "      if (!google.colab.kernel.accessAllowed) {\n",
              "        return;\n",
              "      }\n",
              "      const div = document.createElement('div');\n",
              "      const label = document.createElement('label');\n",
              "      label.textContent = `Downloading \"${filename}\": `;\n",
              "      div.appendChild(label);\n",
              "      const progress = document.createElement('progress');\n",
              "      progress.max = size;\n",
              "      div.appendChild(progress);\n",
              "      document.body.appendChild(div);\n",
              "\n",
              "      const buffers = [];\n",
              "      let downloaded = 0;\n",
              "\n",
              "      const channel = await google.colab.kernel.comms.open(id);\n",
              "      // Send a message to notify the kernel that we're ready.\n",
              "      channel.send({})\n",
              "\n",
              "      for await (const message of channel.messages) {\n",
              "        // Send a message to notify the kernel that we're ready.\n",
              "        channel.send({})\n",
              "        if (message.buffers) {\n",
              "          for (const buffer of message.buffers) {\n",
              "            buffers.push(buffer);\n",
              "            downloaded += buffer.byteLength;\n",
              "            progress.value = downloaded;\n",
              "          }\n",
              "        }\n",
              "      }\n",
              "      const blob = new Blob(buffers, {type: 'application/binary'});\n",
              "      const a = document.createElement('a');\n",
              "      a.href = window.URL.createObjectURL(blob);\n",
              "      a.download = filename;\n",
              "      div.appendChild(a);\n",
              "      a.click();\n",
              "      div.remove();\n",
              "    }\n",
              "  "
            ]
          },
          "metadata": {}
        },
        {
          "output_type": "display_data",
          "data": {
            "text/plain": [
              "<IPython.core.display.Javascript object>"
            ],
            "application/javascript": [
              "download(\"download_66fb4847-b8c9-45f1-b0a5-2a58427ca49a\", \"admit_cards.csv\", 100)"
            ]
          },
          "metadata": {}
        }
      ]
    },
    {
      "cell_type": "code",
      "source": [
        "# prompt: suggest some interesting application with code for beginners developers\n",
        "\n",
        "import random\n",
        "\n",
        "def number_guessing_game():\n",
        "  \"\"\"Plays a number guessing game with the user.\"\"\"\n",
        "\n",
        "  secret_number = random.randint(1, 100)\n",
        "  guesses_left = 7\n",
        "\n",
        "  print(\"Welcome to the Number Guessing Game!\")\n",
        "  print(\"I'm thinking of a number between 1 and 100.\")\n",
        "\n",
        "  while guesses_left > 0:\n",
        "    try:\n",
        "      guess = int(input(f\"You have {guesses_left} guesses left. Take a guess: \"))\n",
        "    except ValueError:\n",
        "      print(\"Invalid input. Please enter a number.\")\n",
        "      continue\n",
        "\n",
        "    if guess < secret_number:\n",
        "      print(\"Too low!\")\n",
        "    elif guess > secret_number:\n",
        "      print(\"Too high!\")\n",
        "    else:\n",
        "      print(f\"Congratulations! You guessed the number in {7 - guesses_left} tries.\")\n",
        "      return\n",
        "\n",
        "    guesses_left -= 1\n",
        "\n",
        "  print(f\"You ran out of guesses. The number was {secret_number}.\")\n",
        "\n",
        "\n",
        "def rock_paper_scissors():\n",
        "    \"\"\"Plays a game of Rock, Paper, Scissors with the user.\"\"\"\n",
        "\n",
        "    user_action = input(\"Enter a choice (rock, paper, scissors): \")\n",
        "    possible_actions = [\"rock\", \"paper\", \"scissors\"]\n",
        "    computer_action = random.choice(possible_actions)\n",
        "    print(f\"\\nYou chose {user_action}, computer chose {computer_action}.\\n\")\n",
        "\n",
        "    if user_action == computer_action:\n",
        "        print(f\"Both players selected {user_action}. It's a tie!\")\n",
        "    elif user_action == \"rock\":\n",
        "        if computer_action == \"scissors\":\n",
        "            print(\"Rock smashes scissors! You win!\")\n",
        "        else:\n",
        "            print(\"Paper covers rock! You lose.\")\n",
        "    elif user_action == \"paper\":\n",
        "        if computer_action == \"rock\":\n",
        "            print(\"Paper covers rock! You win!\")\n",
        "        else:\n",
        "            print(\"Scissors cuts paper! You lose.\")\n",
        "    elif user_action == \"scissors\":\n",
        "        if computer_action == \"paper\":\n",
        "            print(\"Scissors cuts paper! You win!\")\n",
        "        else:\n",
        "            print(\"Rock smashes scissors! You lose.\")\n",
        "    else:\n",
        "        print(\"Invalid input. Please choose rock, paper, or scissors.\")\n",
        "\n",
        "\n",
        "# Main program\n",
        "if __name__ == \"__main__\":\n",
        "  print(\"Choose a game:\")\n",
        "  print(\"1. Number Guessing Game\")\n",
        "  print(\"2. Rock Paper Scissors\")\n",
        "\n",
        "  choice = input(\"Enter your choice (1 or 2): \")\n",
        "\n",
        "  if choice == \"1\":\n",
        "    number_guessing_game()\n",
        "  elif choice == \"2\":\n",
        "    rock_paper_scissors()\n",
        "  else:\n",
        "    print(\"Invalid choice.\")\n"
      ],
      "metadata": {
        "colab": {
          "base_uri": "https://localhost:8080/"
        },
        "id": "276wu9_4DVYp",
        "outputId": "981e8c28-bf87-45dd-ef7d-1d3bf471fd98"
      },
      "execution_count": null,
      "outputs": [
        {
          "output_type": "stream",
          "name": "stdout",
          "text": [
            "Choose a game:\n",
            "1. Number Guessing Game\n",
            "2. Rock Paper Scissors\n",
            "Enter your choice (1 or 2): 2\n",
            "Enter a choice (rock, paper, scissors): 2\n",
            "\n",
            "You chose 2, computer chose paper.\n",
            "\n",
            "Invalid input. Please choose rock, paper, or scissors.\n"
          ]
        }
      ]
    },
    {
      "cell_type": "code",
      "source": [
        "# prompt: Create a simple dice game(ludo) with six sides make it fun\n",
        "\n",
        "import random\n",
        "\n",
        "def ludo_dice_roll():\n",
        "    \"\"\"Simulates a six-sided dice roll.\"\"\"\n",
        "    return random.randint(1, 6)\n",
        "\n",
        "def play_ludo():\n",
        "    \"\"\"Plays a simplified Ludo game.\"\"\"\n",
        "\n",
        "    players = [\"Ali\", \"Usman\"]\n",
        "    current_positions = [0, 0]  # Starting positions\n",
        "\n",
        "    while True:\n",
        "        for i, player in enumerate(players):\n",
        "            input(f\"{player}, press Enter to roll the dice...\")\n",
        "            roll = ludo_dice_roll()\n",
        "            print(f\"{player} rolled a {roll}!\")\n",
        "\n",
        "            current_positions[i] += roll\n",
        "\n",
        "            print(f\"{player}'s current position: {current_positions[i]}\")\n",
        "\n",
        "            if current_positions[i] >= 50: # Example win condition\n",
        "              print(f\"{player} wins!\")\n",
        "              return\n",
        "\n",
        "play_ludo()\n"
      ],
      "metadata": {
        "id": "Bjz3VXXkuWza"
      },
      "execution_count": null,
      "outputs": []
    },
    {
      "cell_type": "markdown",
      "source": [
        "Assignment"
      ],
      "metadata": {
        "id": "Bfwb6aC5wv6i"
      }
    },
    {
      "cell_type": "code",
      "source": [
        "import time\n",
        "\n",
        "for num in range(10, 0, -1):\n",
        "  print(num)\n",
        "  time.sleep(1)\n",
        "\n",
        "print(\"Liftoff!\")"
      ],
      "metadata": {
        "id": "7hEj-J2eCLdL",
        "colab": {
          "base_uri": "https://localhost:8080/"
        },
        "outputId": "b26ea9ef-efb3-4804-cdc1-11108ff006eb"
      },
      "execution_count": 3,
      "outputs": [
        {
          "output_type": "stream",
          "name": "stdout",
          "text": [
            "10\n",
            "9\n",
            "8\n",
            "7\n",
            "6\n",
            "5\n",
            "4\n",
            "3\n",
            "2\n",
            "1\n",
            "Liftoff!\n"
          ]
        }
      ]
    }
  ]
}