{
  "nbformat": 4,
  "nbformat_minor": 0,
  "metadata": {
    "colab": {
      "provenance": [],
      "authorship_tag": "ABX9TyPP7m+tAjrRh19w+swZL8Wo",
      "include_colab_link": true
    },
    "kernelspec": {
      "name": "python3",
      "display_name": "Python 3"
    },
    "language_info": {
      "name": "python"
    }
  },
  "cells": [
    {
      "cell_type": "markdown",
      "metadata": {
        "id": "view-in-github",
        "colab_type": "text"
      },
      "source": [
        "<a href=\"https://colab.research.google.com/github/Usman194/Python-Practice/blob/main/OOP.ipynb\" target=\"_parent\"><img src=\"https://colab.research.google.com/assets/colab-badge.svg\" alt=\"Open In Colab\"/></a>"
      ]
    },
    {
      "cell_type": "markdown",
      "source": [
        "#OOP => Object Oriented Programming"
      ],
      "metadata": {
        "id": "14qyoejNuJFC"
      }
    },
    {
      "cell_type": "code",
      "source": [
        "class House:\n",
        "  address:str= \"House No 123\"\n",
        "  number_of_doors:int= 4\n",
        "  number_of_rooms:int= 5\n",
        "  number_of_windows:int=10\n",
        "\n",
        "Usman_House = House()\n",
        "print(f\"House Add: {Usman_House.address}\")\n",
        "print(f\"House Doors: {Usman_House.number_of_doors}\")\n",
        "print(f\"Hose Rooms: {Usman_House.number_of_rooms}\")\n",
        "print(f\"House Windows.{Usman_House.number_of_windows}\")"
      ],
      "metadata": {
        "colab": {
          "base_uri": "https://localhost:8080/"
        },
        "id": "3_SgsBW9uSGw",
        "outputId": "bcd53ad6-f5f4-4988-c9e9-a129715d785a"
      },
      "execution_count": null,
      "outputs": [
        {
          "output_type": "stream",
          "name": "stdout",
          "text": [
            "House Add: House No 123\n",
            "House Doors: 4\n",
            "Hose Rooms: 5\n",
            "House Windows.10\n"
          ]
        }
      ]
    },
    {
      "cell_type": "markdown",
      "source": [
        "Constructer Function"
      ],
      "metadata": {
        "id": "kp8pc7tV0IBz"
      }
    },
    {
      "cell_type": "code",
      "source": [
        "class House:\n",
        "  address:str= \"House No 123\"\n",
        "  number_of_doors:int= 4\n",
        "  number_of_rooms:int= 5\n",
        "  number_of_windows:int=10\n",
        "\n",
        "  def __init__(self, address, number_of_doors):\n",
        "    self.address = address\n",
        "    self.number_of_doors = number_of_doors\n",
        "\n",
        "  def ring_bell(self):\n",
        "      #print(self.address)\n",
        "      print(\"Ding Dong\")\n",
        "\n",
        "Usman_House = House(\"House No 123\" , 23)\n",
        "#Ali_House = House(\"House No 456\", 5)\n",
        "Usman_House.ring_bell()\n",
        "\n",
        "#print(f\"Ali House Add: {Ali_House.address}\")\n",
        "#print(f\"Ali House Doors: {Ali_House.number_of_doors}\")\n",
        "#print(f\"Usman House Add: {Usman_House.address}\")\n",
        "#print(f\"Usman House Doors: {Usman_House.number_of_doors}\")"
      ],
      "metadata": {
        "colab": {
          "base_uri": "https://localhost:8080/"
        },
        "id": "8t7bZ25k0NIc",
        "outputId": "9b838674-93f7-4ae7-b6ab-2cfeedb296cb"
      },
      "execution_count": null,
      "outputs": [
        {
          "output_type": "stream",
          "name": "stdout",
          "text": [
            "Ding Dong\n"
          ]
        }
      ]
    },
    {
      "cell_type": "code",
      "source": [
        "import random\n",
        "\n",
        "for i in range(10):\n",
        "  print(random.randint(0, 100), end=' ')"
      ],
      "metadata": {
        "colab": {
          "base_uri": "https://localhost:8080/"
        },
        "id": "zHM0qrVO50wg",
        "outputId": "fb8da34f-beb0-4441-ea81-4e67fa798f59"
      },
      "execution_count": null,
      "outputs": [
        {
          "output_type": "stream",
          "name": "stdout",
          "text": [
            "96 85 74 38 62 80 34 82 46 61 "
          ]
        }
      ]
    },
    {
      "cell_type": "markdown",
      "source": [
        "Planetery Weight"
      ],
      "metadata": {
        "id": "eFnilsXeAuXh"
      }
    },
    {
      "cell_type": "code",
      "source": [
        "planety_weight = {\n",
        "    \"Mercury\" : 37.6,\n",
        "    \"Venus\" : 88.9,\n",
        "    \"Mars\" : 37.8,\n",
        "    \"Jupiter\" : 236.1,\n",
        "    \"Saturn\" : 103.6,\n",
        "    \"Uranus\" : 86.9,\n",
        "    \"Neptune\" : 111.5,\n",
        "}\n",
        "def plan_weight():\n",
        "  earth_weight = float(input(\"Please enter your earth weihght: \"))\n",
        "  planet_of_choice = str(input(\"Please enter the planet of your choice: \"))\n",
        "  if planet_of_choice in planety_weight:\n",
        "    plan_weight = earth_weight * planety_weight[planet_of_choice] / 100\n",
        "    rounded_weight: float = round(plan_weight, 2)\n",
        "    print(f\"Your weight on Planet: {planet_of_choice} is {rounded_weight}kg\")\n",
        "  else:\n",
        "    print(\"Sorry, we don't have data for that planet.\")\n",
        "plan_weight()"
      ],
      "metadata": {
        "colab": {
          "base_uri": "https://localhost:8080/"
        },
        "id": "nJ1A7wQHAyun",
        "outputId": "61e9bf28-dc7b-428a-bc90-3bba70f8c87d"
      },
      "execution_count": null,
      "outputs": [
        {
          "output_type": "stream",
          "name": "stdout",
          "text": [
            "Please enter your earth weihght: 42\n",
            "Please enter the planet of your choice: Venus\n",
            "Your weight on Planet: Venus is 37.34kg\n"
          ]
        }
      ]
    }
  ]
}