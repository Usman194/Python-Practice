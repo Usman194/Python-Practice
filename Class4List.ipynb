{
  "nbformat": 4,
  "nbformat_minor": 0,
  "metadata": {
    "colab": {
      "provenance": [],
      "authorship_tag": "ABX9TyMh1a62cRML4Vnxdd7rBKOC",
      "include_colab_link": true
    },
    "kernelspec": {
      "name": "python3",
      "display_name": "Python 3"
    },
    "language_info": {
      "name": "python"
    }
  },
  "cells": [
    {
      "cell_type": "markdown",
      "metadata": {
        "id": "view-in-github",
        "colab_type": "text"
      },
      "source": [
        "<a href=\"https://colab.research.google.com/github/Usman194/Python-Practice/blob/main/Class4List.ipynb\" target=\"_parent\"><img src=\"https://colab.research.google.com/assets/colab-badge.svg\" alt=\"Open In Colab\"/></a>"
      ]
    },
    {
      "cell_type": "code",
      "execution_count": null,
      "metadata": {
        "colab": {
          "base_uri": "https://localhost:8080/"
        },
        "id": "N2M5vqOj5FT6",
        "outputId": "b796bc50-65b9-4ffc-9684-51f741513fbd"
      },
      "outputs": [
        {
          "output_type": "stream",
          "name": "stdout",
          "text": [
            "False\n"
          ]
        }
      ],
      "source": [
        "is_hungry = False\n",
        "burger_lover = True\n",
        "\n",
        "\n",
        "if ( is_hungry and burger_lover):\n",
        "  print(\"Let's ordered the Food\")\n",
        "else:\n",
        "  print(False)\n"
      ]
    },
    {
      "cell_type": "code",
      "source": [
        "is_hungry = True\n",
        "burger_lover = True\n",
        "pizza_lover = True\n",
        "\n",
        "if ( is_hungry and (burger_lover or pizza_lover) ):\n",
        "  print(\"Let's ordered the Food\")\n",
        "else:\n",
        "  print(False)"
      ],
      "metadata": {
        "colab": {
          "base_uri": "https://localhost:8080/"
        },
        "id": "OL92TytQ8QMC",
        "outputId": "67fb8d1c-30cb-47fa-d9b0-48e979c93977"
      },
      "execution_count": null,
      "outputs": [
        {
          "output_type": "stream",
          "name": "stdout",
          "text": [
            "Let's ordered the Food\n"
          ]
        }
      ]
    },
    {
      "cell_type": "code",
      "source": [
        "is_hungry = False\n",
        "burger_lover = False\n",
        "pizza_lover = False\n",
        "\n",
        "if ( is_hungry and (burger_lover or pizza_lover) ):\n",
        "  print(\"Let's ordered the Food\")\n",
        "elif(is_hungry):\n",
        "  print(\"Let's go to sleep\")"
      ],
      "metadata": {
        "id": "oK3tSYHp94QF"
      },
      "execution_count": null,
      "outputs": []
    },
    {
      "cell_type": "code",
      "source": [
        "is_hungry = True\n",
        "burger_lover = False\n",
        "pizza_lover = False\n",
        "\n",
        "if ( is_hungry and (burger_lover or pizza_lover) ):\n",
        "  print(\"Let's ordered the Food\")\n",
        "elif(is_hungry):\n",
        "  print(\"Let's go to sleep\")"
      ],
      "metadata": {
        "colab": {
          "base_uri": "https://localhost:8080/"
        },
        "id": "clU4cnNg-1ES",
        "outputId": "c8e1b0f0-db8f-4933-e01b-42ed00c96028"
      },
      "execution_count": null,
      "outputs": [
        {
          "output_type": "stream",
          "name": "stdout",
          "text": [
            "Let's ordered the Food\n"
          ]
        }
      ]
    },
    {
      "cell_type": "code",
      "source": [
        "is_hungry = True\n",
        "burger_lover = False\n",
        "pizza_lover = True\n",
        "\n",
        "if ( is_hungry and (burger_lover or pizza_lover) ):\n",
        "  print(\"Let's ordered the Food\")\n",
        "elif(is_hungry):\n",
        "  print(\"Let's go to sleep\")\n",
        "else:\n",
        "  (\"not hungry\")"
      ],
      "metadata": {
        "colab": {
          "base_uri": "https://localhost:8080/"
        },
        "id": "z-ObLsWl_FGp",
        "outputId": "5e735e97-2cef-40ab-c87a-403342615f5a"
      },
      "execution_count": null,
      "outputs": [
        {
          "output_type": "stream",
          "name": "stdout",
          "text": [
            "Let's ordered the Food\n"
          ]
        }
      ]
    },
    {
      "cell_type": "code",
      "source": [
        "list\n",
        "shopping_item : list[str] = [\"eggs\", \"juice\", \"chips\", \"bread\"]\n",
        "print(shopping_item)\n",
        "print(len(shopping_item))\n",
        "print(type(shopping_item))\n",
        "print(shopping_item[3])\n",
        "print(shopping_item[1])\n",
        "#Slice working on index\n",
        "print(shopping_item[0:2])\n",
        "print(\"eggs\" in shopping_item) #To check item in list we use => print(\" \" in list_name)\n",
        "#to add another item in list we use .append() method\n",
        "shopping_item.append(\"flour\")\n",
        "print(shopping_item)\n",
        "#To remove item from list  we use .remove() method\n",
        "shopping_item.remove(\"eggs\")\n",
        "print(shopping_item)"
      ],
      "metadata": {
        "colab": {
          "base_uri": "https://localhost:8080/"
        },
        "id": "O4Toc7ldQKZe",
        "outputId": "a5a6a0e4-1222-4abd-eda2-97ae748c1391"
      },
      "execution_count": null,
      "outputs": [
        {
          "output_type": "stream",
          "name": "stdout",
          "text": [
            "['eggs', 'juice', 'chips', 'bread']\n",
            "4\n",
            "<class 'list'>\n",
            "bread\n",
            "juice\n",
            "['eggs', 'juice']\n",
            "True\n",
            "['eggs', 'juice', 'chips', 'bread', 'flour']\n",
            "['juice', 'chips', 'bread', 'flour']\n"
          ]
        }
      ]
    },
    {
      "cell_type": "markdown",
      "source": [
        "Inserting and removing item in list from .insert() metho"
      ],
      "metadata": {
        "id": "xZ8gnvovdwXP"
      }
    },
    {
      "cell_type": "code",
      "source": [
        "list\n",
        "shopping_item : list[str] = [\"eggs\", \"juice\", \"chips\", \"bread\"]\n",
        "print(\"Before insert method: \", shopping_item)\n",
        "#Applying insert method\n",
        "shopping_item.insert(1, \"cold drink\")\n",
        "print(\"After insert method: \",shopping_item)\n",
        "shopping_item.insert(3, \"biryani\")\n",
        "print(\"Before pop method: \",shopping_item)\n",
        "#We remove item from list we use .pop() method\n",
        "shopping_item.pop(2)\n",
        "print(\"After pop method: \", shopping_item)"
      ],
      "metadata": {
        "colab": {
          "base_uri": "https://localhost:8080/"
        },
        "id": "KEsogCDLenMP",
        "outputId": "b1002047-eb58-4517-c8f1-977ddce91e21"
      },
      "execution_count": null,
      "outputs": [
        {
          "output_type": "stream",
          "name": "stdout",
          "text": [
            "Before insert method:  ['eggs', 'juice', 'chips', 'bread']\n",
            "After insert method:  ['eggs', 'cold drink', 'juice', 'chips', 'bread']\n",
            "Before pop method:  ['eggs', 'cold drink', 'juice', 'biryani', 'chips', 'bread']\n",
            "After pop method:  ['eggs', 'cold drink', 'biryani', 'chips', 'bread']\n"
          ]
        }
      ]
    },
    {
      "cell_type": "markdown",
      "source": [
        "#Functions:\n",
        "1.Because it saves us repetation\n",
        "2.Because it help us to organise code\n",
        "3.Syntax :\n",
        "* def function_name(parameter):\n",
        "*     block of code\n",
        "*     return value\n",
        "* function_name() =>function call\n",
        "\n",
        "\n",
        "\n",
        "\n",
        "\n",
        "\n",
        "\n",
        "\n",
        "\n",
        "\n",
        "\n",
        "\n",
        "\n",
        "\n",
        "   \n"
      ],
      "metadata": {
        "id": "ZJfOpG1Nig-p"
      }
    },
    {
      "cell_type": "code",
      "source": [
        "def per():\n",
        "  print(\"Hi Saim\")\n",
        "per()"
      ],
      "metadata": {
        "colab": {
          "base_uri": "https://localhost:8080/"
        },
        "id": "LA5-UoQvhY3O",
        "outputId": "1ba560e3-92cb-4b76-a3de-869b5d03a890"
      },
      "execution_count": null,
      "outputs": [
        {
          "output_type": "stream",
          "name": "stdout",
          "text": [
            "Hi Saim\n"
          ]
        }
      ]
    },
    {
      "cell_type": "code",
      "source": [
        "def intro(fname, lname):\n",
        "  print(f\"Hi, {fname} {lname}\")\n",
        "intro(\"Muhammad\", \"Usman\")\n",
        "intro(\"Zafar\", \"Abbas\")"
      ],
      "metadata": {
        "colab": {
          "base_uri": "https://localhost:8080/"
        },
        "id": "D8aT31RPmW3s",
        "outputId": "aa461242-a570-4d8c-d907-f88dcc3bf379"
      },
      "execution_count": null,
      "outputs": [
        {
          "output_type": "stream",
          "name": "stdout",
          "text": [
            "Hi, Muhammad Usman\n",
            "Hi, Zafar Abbas\n"
          ]
        }
      ]
    },
    {
      "cell_type": "markdown",
      "source": [
        "#Let's create a function with Return Value:\n",
        "\n",
        "* I f function does not return value it gives none value.\n",
        "\n"
      ],
      "metadata": {
        "id": "r_Tvl35ynBTK"
      }
    },
    {
      "cell_type": "code",
      "source": [
        "def add_two(num1, num2):\n",
        "  sum = num1 + num2\n",
        "  return sum\n",
        "add_two(34, 23)"
      ],
      "metadata": {
        "colab": {
          "base_uri": "https://localhost:8080/"
        },
        "id": "-hTagSTTnI8X",
        "outputId": "9f9a4dd0-e9dd-4352-c22e-bdb23f73c353"
      },
      "execution_count": null,
      "outputs": [
        {
          "output_type": "execute_result",
          "data": {
            "text/plain": [
              "57"
            ]
          },
          "metadata": {},
          "execution_count": 46
        }
      ]
    },
    {
      "cell_type": "markdown",
      "source": [
        "#Define Default Parameter"
      ],
      "metadata": {
        "id": "EZMR6xW2pF4s"
      }
    },
    {
      "cell_type": "code",
      "source": [
        "def greet(name = \"Guest\"):\n",
        "  print(f\"Hi, {name}\")\n",
        "greet()"
      ],
      "metadata": {
        "colab": {
          "base_uri": "https://localhost:8080/"
        },
        "id": "_AsztqG-pLwp",
        "outputId": "876b6dc8-98e0-4780-a128-037a20080b51"
      },
      "execution_count": null,
      "outputs": [
        {
          "output_type": "stream",
          "name": "stdout",
          "text": [
            "Hi, Guest\n"
          ]
        }
      ]
    },
    {
      "cell_type": "code",
      "source": [
        "def add_two(num1 = 11, num2 = 21):\n",
        "  sum = num1 + num2\n",
        "  return sum\n",
        "add_two()"
      ],
      "metadata": {
        "colab": {
          "base_uri": "https://localhost:8080/"
        },
        "id": "y9MwzoRop0FK",
        "outputId": "6c277ead-2788-4584-c44d-37ddc0936e3e"
      },
      "execution_count": null,
      "outputs": [
        {
          "output_type": "execute_result",
          "data": {
            "text/plain": [
              "32"
            ]
          },
          "metadata": {},
          "execution_count": 48
        }
      ]
    },
    {
      "cell_type": "markdown",
      "source": [
        "#Assignment Calculator"
      ],
      "metadata": {
        "id": "SA7yD0eKqOK7"
      }
    },
    {
      "cell_type": "code",
      "source": [],
      "metadata": {
        "id": "VrUlO3QDYSxa"
      },
      "execution_count": null,
      "outputs": []
    },
    {
      "cell_type": "code",
      "source": [
        "def call_llm( prompt ):\n",
        "  print(\"User: \", prompt)\n",
        "  return (\"Hello, how can i assist you today?\")\n",
        "responce = call_llm(\"Hi, My name is Muhammad Usman\")\n",
        "print(responce)"
      ],
      "metadata": {
        "colab": {
          "base_uri": "https://localhost:8080/"
        },
        "id": "4ewSeEiab6BL",
        "outputId": "f77d1b60-221b-4990-96c8-33c8966752d1"
      },
      "execution_count": null,
      "outputs": [
        {
          "output_type": "stream",
          "name": "stdout",
          "text": [
            "User:  Hi, My name is Muhammad Usman\n",
            "Hello, how can i assist you today?\n"
          ]
        }
      ]
    },
    {
      "cell_type": "markdown",
      "source": [
        "#Roll Dice"
      ],
      "metadata": {
        "id": "PyCOUw3qfs-I"
      }
    },
    {
      "cell_type": "code",
      "source": [
        "import random\n",
        "\n",
        "def roll_dice():\n",
        "  return random.randint(1, 12)\n",
        "print( roll_dice() )"
      ],
      "metadata": {
        "colab": {
          "base_uri": "https://localhost:8080/"
        },
        "id": "ZNTPonAKfxBC",
        "outputId": "b73a84a4-e899-419f-9ee3-41f8d6f739df"
      },
      "execution_count": null,
      "outputs": [
        {
          "output_type": "stream",
          "name": "stdout",
          "text": [
            "11\n"
          ]
        }
      ]
    }
  ]
}